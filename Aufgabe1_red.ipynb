{
 "cells": [
  {
   "cell_type": "markdown",
   "metadata": {},
   "source": [
    "---\n",
    "# Data Understanding"
   ]
  },
  {
   "cell_type": "code",
   "execution_count": 217,
   "metadata": {
    "collapsed": true
   },
   "outputs": [
    {
     "data": {
      "text/plain": "   fixed acidity  volatile acidity  citric acid  residual sugar  chlorides  \\\n0            7.4              0.70         0.00             1.9      0.076   \n1            7.8              0.88         0.00             2.6      0.098   \n2            7.8              0.76         0.04             2.3      0.092   \n3           11.2              0.28         0.56             1.9      0.075   \n4            7.4              0.70         0.00             1.9      0.076   \n\n   free sulfur dioxide  total sulfur dioxide  density    pH  sulphates  \\\n0                 11.0                  34.0   0.9978  3.51       0.56   \n1                 25.0                  67.0   0.9968  3.20       0.68   \n2                 15.0                  54.0   0.9970  3.26       0.65   \n3                 17.0                  60.0   0.9980  3.16       0.58   \n4                 11.0                  34.0   0.9978  3.51       0.56   \n\n   alcohol  quality  \n0      9.4        5  \n1      9.8        5  \n2      9.8        5  \n3      9.8        6  \n4      9.4        5  ",
      "text/html": "<div>\n<style scoped>\n    .dataframe tbody tr th:only-of-type {\n        vertical-align: middle;\n    }\n\n    .dataframe tbody tr th {\n        vertical-align: top;\n    }\n\n    .dataframe thead th {\n        text-align: right;\n    }\n</style>\n<table border=\"1\" class=\"dataframe\">\n  <thead>\n    <tr style=\"text-align: right;\">\n      <th></th>\n      <th>fixed acidity</th>\n      <th>volatile acidity</th>\n      <th>citric acid</th>\n      <th>residual sugar</th>\n      <th>chlorides</th>\n      <th>free sulfur dioxide</th>\n      <th>total sulfur dioxide</th>\n      <th>density</th>\n      <th>pH</th>\n      <th>sulphates</th>\n      <th>alcohol</th>\n      <th>quality</th>\n    </tr>\n  </thead>\n  <tbody>\n    <tr>\n      <th>0</th>\n      <td>7.4</td>\n      <td>0.70</td>\n      <td>0.00</td>\n      <td>1.9</td>\n      <td>0.076</td>\n      <td>11.0</td>\n      <td>34.0</td>\n      <td>0.9978</td>\n      <td>3.51</td>\n      <td>0.56</td>\n      <td>9.4</td>\n      <td>5</td>\n    </tr>\n    <tr>\n      <th>1</th>\n      <td>7.8</td>\n      <td>0.88</td>\n      <td>0.00</td>\n      <td>2.6</td>\n      <td>0.098</td>\n      <td>25.0</td>\n      <td>67.0</td>\n      <td>0.9968</td>\n      <td>3.20</td>\n      <td>0.68</td>\n      <td>9.8</td>\n      <td>5</td>\n    </tr>\n    <tr>\n      <th>2</th>\n      <td>7.8</td>\n      <td>0.76</td>\n      <td>0.04</td>\n      <td>2.3</td>\n      <td>0.092</td>\n      <td>15.0</td>\n      <td>54.0</td>\n      <td>0.9970</td>\n      <td>3.26</td>\n      <td>0.65</td>\n      <td>9.8</td>\n      <td>5</td>\n    </tr>\n    <tr>\n      <th>3</th>\n      <td>11.2</td>\n      <td>0.28</td>\n      <td>0.56</td>\n      <td>1.9</td>\n      <td>0.075</td>\n      <td>17.0</td>\n      <td>60.0</td>\n      <td>0.9980</td>\n      <td>3.16</td>\n      <td>0.58</td>\n      <td>9.8</td>\n      <td>6</td>\n    </tr>\n    <tr>\n      <th>4</th>\n      <td>7.4</td>\n      <td>0.70</td>\n      <td>0.00</td>\n      <td>1.9</td>\n      <td>0.076</td>\n      <td>11.0</td>\n      <td>34.0</td>\n      <td>0.9978</td>\n      <td>3.51</td>\n      <td>0.56</td>\n      <td>9.4</td>\n      <td>5</td>\n    </tr>\n  </tbody>\n</table>\n</div>"
     },
     "execution_count": 217,
     "metadata": {},
     "output_type": "execute_result"
    }
   ],
   "source": [
    "import pandas as pd\n",
    "\n",
    "data_wine_red = pd.read_csv('./data/winequality-red.csv',delimiter=';')\n",
    "\n",
    "data_wine_red.head()\n",
    "\n"
   ]
  },
  {
   "cell_type": "code",
   "execution_count": 218,
   "metadata": {},
   "outputs": [
    {
     "data": {
      "text/plain": "       fixed acidity  volatile acidity  citric acid  residual sugar  \\\ncount    1599.000000       1599.000000  1599.000000     1599.000000   \nmean        8.319637          0.527821     0.270976        2.538806   \nstd         1.741096          0.179060     0.194801        1.409928   \nmin         4.600000          0.120000     0.000000        0.900000   \n25%         7.100000          0.390000     0.090000        1.900000   \n50%         7.900000          0.520000     0.260000        2.200000   \n75%         9.200000          0.640000     0.420000        2.600000   \nmax        15.900000          1.580000     1.000000       15.500000   \n\n         chlorides  free sulfur dioxide  total sulfur dioxide      density  \\\ncount  1599.000000          1599.000000           1599.000000  1599.000000   \nmean      0.087467            15.874922             46.467792     0.996747   \nstd       0.047065            10.460157             32.895324     0.001887   \nmin       0.012000             1.000000              6.000000     0.990070   \n25%       0.070000             7.000000             22.000000     0.995600   \n50%       0.079000            14.000000             38.000000     0.996750   \n75%       0.090000            21.000000             62.000000     0.997835   \nmax       0.611000            72.000000            289.000000     1.003690   \n\n                pH    sulphates      alcohol      quality  \ncount  1599.000000  1599.000000  1599.000000  1599.000000  \nmean      3.311113     0.658149    10.422983     5.636023  \nstd       0.154386     0.169507     1.065668     0.807569  \nmin       2.740000     0.330000     8.400000     3.000000  \n25%       3.210000     0.550000     9.500000     5.000000  \n50%       3.310000     0.620000    10.200000     6.000000  \n75%       3.400000     0.730000    11.100000     6.000000  \nmax       4.010000     2.000000    14.900000     8.000000  ",
      "text/html": "<div>\n<style scoped>\n    .dataframe tbody tr th:only-of-type {\n        vertical-align: middle;\n    }\n\n    .dataframe tbody tr th {\n        vertical-align: top;\n    }\n\n    .dataframe thead th {\n        text-align: right;\n    }\n</style>\n<table border=\"1\" class=\"dataframe\">\n  <thead>\n    <tr style=\"text-align: right;\">\n      <th></th>\n      <th>fixed acidity</th>\n      <th>volatile acidity</th>\n      <th>citric acid</th>\n      <th>residual sugar</th>\n      <th>chlorides</th>\n      <th>free sulfur dioxide</th>\n      <th>total sulfur dioxide</th>\n      <th>density</th>\n      <th>pH</th>\n      <th>sulphates</th>\n      <th>alcohol</th>\n      <th>quality</th>\n    </tr>\n  </thead>\n  <tbody>\n    <tr>\n      <th>count</th>\n      <td>1599.000000</td>\n      <td>1599.000000</td>\n      <td>1599.000000</td>\n      <td>1599.000000</td>\n      <td>1599.000000</td>\n      <td>1599.000000</td>\n      <td>1599.000000</td>\n      <td>1599.000000</td>\n      <td>1599.000000</td>\n      <td>1599.000000</td>\n      <td>1599.000000</td>\n      <td>1599.000000</td>\n    </tr>\n    <tr>\n      <th>mean</th>\n      <td>8.319637</td>\n      <td>0.527821</td>\n      <td>0.270976</td>\n      <td>2.538806</td>\n      <td>0.087467</td>\n      <td>15.874922</td>\n      <td>46.467792</td>\n      <td>0.996747</td>\n      <td>3.311113</td>\n      <td>0.658149</td>\n      <td>10.422983</td>\n      <td>5.636023</td>\n    </tr>\n    <tr>\n      <th>std</th>\n      <td>1.741096</td>\n      <td>0.179060</td>\n      <td>0.194801</td>\n      <td>1.409928</td>\n      <td>0.047065</td>\n      <td>10.460157</td>\n      <td>32.895324</td>\n      <td>0.001887</td>\n      <td>0.154386</td>\n      <td>0.169507</td>\n      <td>1.065668</td>\n      <td>0.807569</td>\n    </tr>\n    <tr>\n      <th>min</th>\n      <td>4.600000</td>\n      <td>0.120000</td>\n      <td>0.000000</td>\n      <td>0.900000</td>\n      <td>0.012000</td>\n      <td>1.000000</td>\n      <td>6.000000</td>\n      <td>0.990070</td>\n      <td>2.740000</td>\n      <td>0.330000</td>\n      <td>8.400000</td>\n      <td>3.000000</td>\n    </tr>\n    <tr>\n      <th>25%</th>\n      <td>7.100000</td>\n      <td>0.390000</td>\n      <td>0.090000</td>\n      <td>1.900000</td>\n      <td>0.070000</td>\n      <td>7.000000</td>\n      <td>22.000000</td>\n      <td>0.995600</td>\n      <td>3.210000</td>\n      <td>0.550000</td>\n      <td>9.500000</td>\n      <td>5.000000</td>\n    </tr>\n    <tr>\n      <th>50%</th>\n      <td>7.900000</td>\n      <td>0.520000</td>\n      <td>0.260000</td>\n      <td>2.200000</td>\n      <td>0.079000</td>\n      <td>14.000000</td>\n      <td>38.000000</td>\n      <td>0.996750</td>\n      <td>3.310000</td>\n      <td>0.620000</td>\n      <td>10.200000</td>\n      <td>6.000000</td>\n    </tr>\n    <tr>\n      <th>75%</th>\n      <td>9.200000</td>\n      <td>0.640000</td>\n      <td>0.420000</td>\n      <td>2.600000</td>\n      <td>0.090000</td>\n      <td>21.000000</td>\n      <td>62.000000</td>\n      <td>0.997835</td>\n      <td>3.400000</td>\n      <td>0.730000</td>\n      <td>11.100000</td>\n      <td>6.000000</td>\n    </tr>\n    <tr>\n      <th>max</th>\n      <td>15.900000</td>\n      <td>1.580000</td>\n      <td>1.000000</td>\n      <td>15.500000</td>\n      <td>0.611000</td>\n      <td>72.000000</td>\n      <td>289.000000</td>\n      <td>1.003690</td>\n      <td>4.010000</td>\n      <td>2.000000</td>\n      <td>14.900000</td>\n      <td>8.000000</td>\n    </tr>\n  </tbody>\n</table>\n</div>"
     },
     "execution_count": 218,
     "metadata": {},
     "output_type": "execute_result"
    }
   ],
   "source": [
    "data_wine_red.describe()"
   ]
  },
  {
   "cell_type": "code",
   "execution_count": 219,
   "metadata": {},
   "outputs": [
    {
     "data": {
      "text/plain": "(1599, 12)"
     },
     "execution_count": 219,
     "metadata": {},
     "output_type": "execute_result"
    }
   ],
   "source": [
    "data_wine_red.shape"
   ]
  },
  {
   "cell_type": "code",
   "execution_count": 220,
   "metadata": {},
   "outputs": [
    {
     "data": {
      "text/plain": "<AxesSubplot: xlabel='quality', ylabel='count'>"
     },
     "execution_count": 220,
     "metadata": {},
     "output_type": "execute_result"
    },
    {
     "data": {
      "text/plain": "<Figure size 640x480 with 1 Axes>",
      "image/png": "[encoded data removed]"
     },
     "metadata": {},
     "output_type": "display_data"
    }
   ],
   "source": [
    "import matplotlib.pyplot as plt\n",
    "import seaborn as sns\n",
    "sns.countplot(x = data_wine_red.quality)"
   ]
  },
  {
   "cell_type": "markdown",
   "metadata": {},
   "source": []
  },
  {
   "cell_type": "markdown",
   "metadata": {},
   "source": [
    "# Standardize Values"
   ]
  },
  {
   "cell_type": "code",
   "execution_count": 221,
   "metadata": {},
   "outputs": [
    {
     "data": {
      "text/plain": "                 0             1             2             3             4   \\\ncount  1.599000e+03  1.599000e+03  1.599000e+03  1.599000e+03  1.599000e+03   \nmean   3.554936e-16  1.733031e-16 -8.887339e-17 -1.244227e-16  3.732682e-16   \nstd    1.000313e+00  1.000313e+00  1.000313e+00  1.000313e+00  1.000313e+00   \nmin   -2.137045e+00 -2.278280e+00 -1.391472e+00 -1.162696e+00 -1.603945e+00   \n25%   -7.007187e-01 -7.699311e-01 -9.293181e-01 -4.532184e-01 -3.712290e-01   \n50%   -2.410944e-01 -4.368911e-02 -5.636026e-02 -2.403750e-01 -1.799455e-01   \n75%    5.057952e-01  6.266881e-01  7.652471e-01  4.341614e-02  5.384542e-02   \nmax    4.355149e+00  5.877976e+00  3.743574e+00  9.195681e+00  1.112703e+01   \n\n                 5             6             7             8             9   \\\ncount  1.599000e+03  1.599000e+03  1.599000e+03  1.599000e+03  1.599000e+03   \nmean  -6.221137e-17  4.443669e-17 -3.473172e-14  2.861723e-15  6.754377e-16   \nstd    1.000313e+00  1.000313e+00  1.000313e+00  1.000313e+00  1.000313e+00   \nmin   -1.422500e+00 -1.230584e+00 -3.538731e+00 -3.700401e+00 -1.936507e+00   \n25%   -8.487156e-01 -7.440403e-01 -6.077557e-01 -6.551405e-01 -6.382196e-01   \n50%   -1.793002e-01 -2.574968e-01  1.760083e-03 -7.212705e-03 -2.251281e-01   \n75%    4.901152e-01  4.723184e-01  5.768249e-01  5.759223e-01  4.240158e-01   \nmax    5.367284e+00  7.375154e+00  3.680055e+00  4.528282e+00  7.918677e+00   \n\n                 10  \ncount  1.599000e+03  \nmean   1.066481e-16  \nstd    1.000313e+00  \nmin   -1.898919e+00  \n25%   -8.663789e-01  \n50%   -2.093081e-01  \n75%    6.354971e-01  \nmax    4.202453e+00  ",
      "text/html": "<div>\n<style scoped>\n    .dataframe tbody tr th:only-of-type {\n        vertical-align: middle;\n    }\n\n    .dataframe tbody tr th {\n        vertical-align: top;\n    }\n\n    .dataframe thead th {\n        text-align: right;\n    }\n</style>\n<table border=\"1\" class=\"dataframe\">\n  <thead>\n    <tr style=\"text-align: right;\">\n      <th></th>\n      <th>0</th>\n      <th>1</th>\n      <th>2</th>\n      <th>3</th>\n      <th>4</th>\n      <th>5</th>\n      <th>6</th>\n      <th>7</th>\n      <th>8</th>\n      <th>9</th>\n      <th>10</th>\n    </tr>\n  </thead>\n  <tbody>\n    <tr>\n      <th>count</th>\n      <td>1.599000e+03</td>\n      <td>1.599000e+03</td>\n      <td>1.599000e+03</td>\n      <td>1.599000e+03</td>\n      <td>1.599000e+03</td>\n      <td>1.599000e+03</td>\n      <td>1.599000e+03</td>\n      <td>1.599000e+03</td>\n      <td>1.599000e+03</td>\n      <td>1.599000e+03</td>\n      <td>1.599000e+03</td>\n    </tr>\n    <tr>\n      <th>mean</th>\n      <td>3.554936e-16</td>\n      <td>1.733031e-16</td>\n      <td>-8.887339e-17</td>\n      <td>-1.244227e-16</td>\n      <td>3.732682e-16</td>\n      <td>-6.221137e-17</td>\n      <td>4.443669e-17</td>\n      <td>-3.473172e-14</td>\n      <td>2.861723e-15</td>\n      <td>6.754377e-16</td>\n      <td>1.066481e-16</td>\n    </tr>\n    <tr>\n      <th>std</th>\n      <td>1.000313e+00</td>\n      <td>1.000313e+00</td>\n      <td>1.000313e+00</td>\n      <td>1.000313e+00</td>\n      <td>1.000313e+00</td>\n      <td>1.000313e+00</td>\n      <td>1.000313e+00</td>\n      <td>1.000313e+00</td>\n      <td>1.000313e+00</td>\n      <td>1.000313e+00</td>\n      <td>1.000313e+00</td>\n    </tr>\n    <tr>\n      <th>min</th>\n      <td>-2.137045e+00</td>\n      <td>-2.278280e+00</td>\n      <td>-1.391472e+00</td>\n      <td>-1.162696e+00</td>\n      <td>-1.603945e+00</td>\n      <td>-1.422500e+00</td>\n      <td>-1.230584e+00</td>\n      <td>-3.538731e+00</td>\n      <td>-3.700401e+00</td>\n      <td>-1.936507e+00</td>\n      <td>-1.898919e+00</td>\n    </tr>\n    <tr>\n      <th>25%</th>\n      <td>-7.007187e-01</td>\n      <td>-7.699311e-01</td>\n      <td>-9.293181e-01</td>\n      <td>-4.532184e-01</td>\n      <td>-3.712290e-01</td>\n      <td>-8.487156e-01</td>\n      <td>-7.440403e-01</td>\n      <td>-6.077557e-01</td>\n      <td>-6.551405e-01</td>\n      <td>-6.382196e-01</td>\n      <td>-8.663789e-01</td>\n    </tr>\n    <tr>\n      <th>50%</th>\n      <td>-2.410944e-01</td>\n      <td>-4.368911e-02</td>\n      <td>-5.636026e-02</td>\n      <td>-2.403750e-01</td>\n      <td>-1.799455e-01</td>\n      <td>-1.793002e-01</td>\n      <td>-2.574968e-01</td>\n      <td>1.760083e-03</td>\n      <td>-7.212705e-03</td>\n      <td>-2.251281e-01</td>\n      <td>-2.093081e-01</td>\n    </tr>\n    <tr>\n      <th>75%</th>\n      <td>5.057952e-01</td>\n      <td>6.266881e-01</td>\n      <td>7.652471e-01</td>\n      <td>4.341614e-02</td>\n      <td>5.384542e-02</td>\n      <td>4.901152e-01</td>\n      <td>4.723184e-01</td>\n      <td>5.768249e-01</td>\n      <td>5.759223e-01</td>\n      <td>4.240158e-01</td>\n      <td>6.354971e-01</td>\n    </tr>\n    <tr>\n      <th>max</th>\n      <td>4.355149e+00</td>\n      <td>5.877976e+00</td>\n      <td>3.743574e+00</td>\n      <td>9.195681e+00</td>\n      <td>1.112703e+01</td>\n      <td>5.367284e+00</td>\n      <td>7.375154e+00</td>\n      <td>3.680055e+00</td>\n      <td>4.528282e+00</td>\n      <td>7.918677e+00</td>\n      <td>4.202453e+00</td>\n    </tr>\n  </tbody>\n</table>\n</div>"
     },
     "execution_count": 221,
     "metadata": {},
     "output_type": "execute_result"
    }
   ],
   "source": [
    "from sklearn.preprocessing import StandardScaler\n",
    "scalerX = StandardScaler()\n",
    "X_scaled = scalerX.fit_transform(data_wine_red[data_wine_red.columns[~data_wine_red.columns.isin(['quality'])]])\n",
    "\n",
    "scalerY = StandardScaler()\n",
    "y_scaled = scalerY.fit_transform(data_wine_red[data_wine_red.columns[data_wine_red.columns.isin(['quality'])]])\n",
    "pd.DataFrame(X_scaled).describe()"
   ]
  },
  {
   "cell_type": "markdown",
   "metadata": {},
   "source": [
    "---\n",
    "# Principle Component Analysis"
   ]
  },
  {
   "cell_type": "code",
   "execution_count": 222,
   "metadata": {},
   "outputs": [
    {
     "name": "stdout",
     "output_type": "stream",
     "text": [
      "Shape before PCA:  (1599, 11)\n",
      "Shape after PCA:  (1599, 8)\n",
      "                 0            1             2             3             4  \\\n",
      "count  1599.000000  1599.000000  1.599000e+03  1.599000e+03  1.599000e+03   \n",
      "mean      0.000000     0.000000  1.777468e-17  2.666202e-17 -1.999651e-17   \n",
      "std       1.760986     1.388206  1.245598e+00  1.101813e+00  9.797410e-01   \n",
      "min      -5.387623    -3.417517 -3.655316e+00 -4.472835e+00 -3.048917e+00   \n",
      "25%      -1.284754    -0.946600 -8.983770e-01 -4.619438e-01 -6.122579e-01   \n",
      "50%      -0.156804    -0.103429 -7.798049e-02 -7.347862e-02 -1.036633e-01   \n",
      "75%       1.022797     0.780575  7.647279e-01  2.700453e-01  3.957818e-01   \n",
      "max       8.653324     6.809866  5.973211e+00  1.089274e+01  6.347114e+00   \n",
      "\n",
      "                  5             6             7       quality  \n",
      "count  1.599000e+03  1.599000e+03  1.599000e+03  1.599000e+03  \n",
      "mean  -1.777468e-17  4.443669e-17  3.999302e-17  8.887339e-17  \n",
      "std    8.124168e-01  7.643013e-01  6.505547e-01  1.000313e+00  \n",
      "min   -2.858371e+00 -3.426191e+00 -2.614202e+00 -3.265165e+00  \n",
      "25%   -5.449470e-01 -4.252505e-01 -3.864828e-01 -7.878226e-01  \n",
      "50%    3.238589e-04  3.266577e-02 -8.781542e-03  4.508484e-01  \n",
      "75%    5.443314e-01  4.428831e-01  3.850835e-01  4.508484e-01  \n",
      "max    3.265695e+00  3.932002e+00  4.032654e+00  2.928190e+00  \n"
     ]
    }
   ],
   "source": [
    "from sklearn.decomposition import PCA\n",
    "\n",
    "pca = PCA(n_components=8)\n",
    "\n",
    "pca_features = pca.fit_transform(X_scaled)\n",
    "\n",
    "print('Shape before PCA: ', X_scaled.shape)\n",
    "print('Shape after PCA: ', pca_features.shape)\n",
    "\n",
    "data_scaled_pca = pd.DataFrame(data=pca_features)\n",
    "\n",
    "data_scaled_pca['quality'] = y_scaled\n",
    "\n",
    "print(data_scaled_pca.describe())"
   ]
  },
  {
   "cell_type": "code",
   "execution_count": 223,
   "metadata": {},
   "outputs": [
    {
     "data": {
      "text/plain": "array([3.10107182, 1.92711489, 1.55151379, 1.21399175, 0.95989238,\n       0.66002104, 0.58415655, 0.42322138])"
     },
     "execution_count": 223,
     "metadata": {},
     "output_type": "execute_result"
    }
   ],
   "source": [
    "pca.explained_variance_"
   ]
  },
  {
   "cell_type": "markdown",
   "metadata": {},
   "source": [
    "---\n",
    "# Split Data"
   ]
  },
  {
   "cell_type": "code",
   "execution_count": 224,
   "metadata": {},
   "outputs": [
    {
     "data": {
      "text/plain": "            0         1         2         3         4         5         6  \\\n781 -1.427306 -0.017678 -0.559615  0.697901  0.715035 -1.664306  0.885787   \n856  0.113889  0.534935  1.981936 -0.000511 -0.796858 -0.859089 -0.551689   \n423  2.309985 -1.901312  0.603420  0.007671 -0.232305 -0.718998 -0.443147   \n398  2.316502 -0.400941 -0.254835 -0.815076  0.007788  0.687889 -0.938850   \n51  -1.561117 -0.539038 -1.020752  0.341306 -0.114133 -0.798839  0.684484   \n\n            7  \n781 -0.864777  \n856 -1.396141  \n423  0.637543  \n398 -0.815310  \n51   0.799528  ",
      "text/html": "<div>\n<style scoped>\n    .dataframe tbody tr th:only-of-type {\n        vertical-align: middle;\n    }\n\n    .dataframe tbody tr th {\n        vertical-align: top;\n    }\n\n    .dataframe thead th {\n        text-align: right;\n    }\n</style>\n<table border=\"1\" class=\"dataframe\">\n  <thead>\n    <tr style=\"text-align: right;\">\n      <th></th>\n      <th>0</th>\n      <th>1</th>\n      <th>2</th>\n      <th>3</th>\n      <th>4</th>\n      <th>5</th>\n      <th>6</th>\n      <th>7</th>\n    </tr>\n  </thead>\n  <tbody>\n    <tr>\n      <th>781</th>\n      <td>-1.427306</td>\n      <td>-0.017678</td>\n      <td>-0.559615</td>\n      <td>0.697901</td>\n      <td>0.715035</td>\n      <td>-1.664306</td>\n      <td>0.885787</td>\n      <td>-0.864777</td>\n    </tr>\n    <tr>\n      <th>856</th>\n      <td>0.113889</td>\n      <td>0.534935</td>\n      <td>1.981936</td>\n      <td>-0.000511</td>\n      <td>-0.796858</td>\n      <td>-0.859089</td>\n      <td>-0.551689</td>\n      <td>-1.396141</td>\n    </tr>\n    <tr>\n      <th>423</th>\n      <td>2.309985</td>\n      <td>-1.901312</td>\n      <td>0.603420</td>\n      <td>0.007671</td>\n      <td>-0.232305</td>\n      <td>-0.718998</td>\n      <td>-0.443147</td>\n      <td>0.637543</td>\n    </tr>\n    <tr>\n      <th>398</th>\n      <td>2.316502</td>\n      <td>-0.400941</td>\n      <td>-0.254835</td>\n      <td>-0.815076</td>\n      <td>0.007788</td>\n      <td>0.687889</td>\n      <td>-0.938850</td>\n      <td>-0.815310</td>\n    </tr>\n    <tr>\n      <th>51</th>\n      <td>-1.561117</td>\n      <td>-0.539038</td>\n      <td>-1.020752</td>\n      <td>0.341306</td>\n      <td>-0.114133</td>\n      <td>-0.798839</td>\n      <td>0.684484</td>\n      <td>0.799528</td>\n    </tr>\n  </tbody>\n</table>\n</div>"
     },
     "execution_count": 224,
     "metadata": {},
     "output_type": "execute_result"
    }
   ],
   "source": [
    "from sklearn.model_selection import train_test_split\n",
    "\n",
    "X_train, X_test, y_train, y_test = train_test_split(data_scaled_pca[data_scaled_pca.columns[~data_scaled_pca.columns.isin(['quality'])]], data_scaled_pca.quality, test_size=0.25)\n",
    "#X_train, X_test, y_train, y_test = train_test_split(data_wine_red[data_wine_red.columns[~data_wine_red.columns.isin(['quality'])]], data_wine_red.quality, test_size=0.25)\n",
    "\n",
    "X_train.head()"
   ]
  },
  {
   "cell_type": "markdown",
   "metadata": {},
   "source": [
    "---\n",
    "# Nearest Neighbor Regression"
   ]
  },
  {
   "cell_type": "markdown",
   "metadata": {},
   "source": [
    "### Model Training"
   ]
  },
  {
   "cell_type": "code",
   "execution_count": 225,
   "metadata": {},
   "outputs": [],
   "source": [
    "from sklearn.neighbors import KNeighborsRegressor\n",
    "from sklearn.metrics import r2_score\n",
    "neigh = KNeighborsRegressor()\n",
    "neigh.fit(X_train, y_train)\n",
    "\n",
    "y_pred_neigh = neigh.predict(X_test)"
   ]
  },
  {
   "cell_type": "markdown",
   "metadata": {},
   "source": [
    "### R2 Score for Standadized Values"
   ]
  },
  {
   "cell_type": "code",
   "execution_count": 226,
   "metadata": {},
   "outputs": [
    {
     "data": {
      "text/plain": "0.20381391580718544"
     },
     "execution_count": 226,
     "metadata": {},
     "output_type": "execute_result"
    }
   ],
   "source": [
    "r2_score(y_test,y_pred_neigh)"
   ]
  },
  {
   "cell_type": "markdown",
   "metadata": {},
   "source": [
    "### Compare original Values with predicted, rounded Values"
   ]
  },
  {
   "cell_type": "code",
   "execution_count": 227,
   "metadata": {},
   "outputs": [
    {
     "data": {
      "text/plain": "array([[6.],\n       [6.],\n       [7.],\n       [6.],\n       [6.],\n       [5.],\n       [6.],\n       [6.],\n       [5.],\n       [6.],\n       [7.],\n       [7.],\n       [5.],\n       [5.],\n       [5.],\n       [6.],\n       [6.],\n       [7.],\n       [7.],\n       [5.],\n       [6.],\n       [6.],\n       [7.],\n       [5.],\n       [7.],\n       [5.],\n       [5.],\n       [5.],\n       [7.],\n       [5.],\n       [5.],\n       [6.],\n       [5.],\n       [5.],\n       [4.],\n       [5.],\n       [7.],\n       [6.],\n       [5.],\n       [6.],\n       [5.],\n       [7.],\n       [5.],\n       [6.],\n       [6.],\n       [4.],\n       [6.],\n       [7.],\n       [6.],\n       [5.],\n       [6.],\n       [6.],\n       [4.],\n       [6.],\n       [5.],\n       [6.],\n       [7.],\n       [7.],\n       [7.],\n       [5.],\n       [6.],\n       [5.],\n       [6.],\n       [4.],\n       [5.],\n       [6.],\n       [5.],\n       [5.],\n       [6.],\n       [4.],\n       [5.],\n       [6.],\n       [7.],\n       [6.],\n       [6.],\n       [6.],\n       [5.],\n       [6.],\n       [5.],\n       [5.],\n       [5.],\n       [6.],\n       [5.],\n       [5.],\n       [5.],\n       [5.],\n       [6.],\n       [5.],\n       [6.],\n       [6.],\n       [5.],\n       [5.],\n       [5.],\n       [6.],\n       [6.],\n       [6.],\n       [5.],\n       [7.],\n       [6.],\n       [6.],\n       [5.],\n       [5.],\n       [6.],\n       [5.],\n       [5.],\n       [6.],\n       [5.],\n       [6.],\n       [5.],\n       [6.],\n       [7.],\n       [6.],\n       [5.],\n       [5.],\n       [6.],\n       [6.],\n       [6.],\n       [6.],\n       [6.],\n       [6.],\n       [5.],\n       [5.],\n       [5.],\n       [7.],\n       [5.],\n       [6.],\n       [6.],\n       [6.],\n       [7.],\n       [6.],\n       [5.],\n       [6.],\n       [7.],\n       [5.],\n       [6.],\n       [4.],\n       [5.],\n       [5.],\n       [6.],\n       [7.],\n       [5.],\n       [7.],\n       [6.],\n       [6.],\n       [6.],\n       [6.],\n       [6.],\n       [6.],\n       [6.],\n       [6.],\n       [6.],\n       [5.],\n       [6.],\n       [6.],\n       [5.],\n       [5.],\n       [7.],\n       [5.],\n       [5.],\n       [3.],\n       [6.],\n       [5.],\n       [6.],\n       [6.],\n       [7.],\n       [6.],\n       [5.],\n       [8.],\n       [6.],\n       [5.],\n       [4.],\n       [5.],\n       [6.],\n       [7.],\n       [5.],\n       [7.],\n       [6.],\n       [6.],\n       [5.],\n       [6.],\n       [6.],\n       [5.],\n       [7.],\n       [6.],\n       [5.],\n       [7.],\n       [5.],\n       [5.],\n       [5.],\n       [4.],\n       [6.],\n       [5.],\n       [6.],\n       [6.],\n       [6.],\n       [6.],\n       [5.],\n       [5.],\n       [5.],\n       [6.],\n       [5.],\n       [5.],\n       [6.],\n       [6.],\n       [6.],\n       [5.],\n       [6.],\n       [6.],\n       [6.],\n       [5.],\n       [7.],\n       [6.],\n       [5.],\n       [5.],\n       [5.],\n       [6.],\n       [5.],\n       [5.],\n       [7.],\n       [6.],\n       [6.],\n       [7.],\n       [5.],\n       [6.],\n       [6.],\n       [7.],\n       [6.],\n       [5.],\n       [6.],\n       [5.],\n       [6.],\n       [5.],\n       [6.],\n       [5.],\n       [7.],\n       [5.],\n       [5.],\n       [7.],\n       [6.],\n       [5.],\n       [7.],\n       [5.],\n       [6.],\n       [5.],\n       [6.],\n       [7.],\n       [4.],\n       [6.],\n       [6.],\n       [6.],\n       [7.],\n       [5.],\n       [5.],\n       [4.],\n       [5.],\n       [6.],\n       [6.],\n       [6.],\n       [6.],\n       [5.],\n       [6.],\n       [5.],\n       [5.],\n       [5.],\n       [7.],\n       [5.],\n       [5.],\n       [5.],\n       [4.],\n       [5.],\n       [5.],\n       [6.],\n       [5.],\n       [6.],\n       [5.],\n       [6.],\n       [6.],\n       [5.],\n       [6.],\n       [6.],\n       [5.],\n       [6.],\n       [7.],\n       [4.],\n       [6.],\n       [5.],\n       [6.],\n       [7.],\n       [5.],\n       [5.],\n       [7.],\n       [6.],\n       [5.],\n       [5.],\n       [6.],\n       [7.],\n       [7.],\n       [7.],\n       [5.],\n       [7.],\n       [5.],\n       [7.],\n       [5.],\n       [5.],\n       [6.],\n       [6.],\n       [6.],\n       [5.],\n       [5.],\n       [6.],\n       [4.],\n       [6.],\n       [5.],\n       [6.],\n       [6.],\n       [6.],\n       [6.],\n       [5.],\n       [6.],\n       [6.],\n       [5.],\n       [5.],\n       [6.],\n       [6.],\n       [7.],\n       [6.],\n       [5.],\n       [5.],\n       [5.],\n       [6.],\n       [5.],\n       [5.],\n       [8.],\n       [6.],\n       [6.],\n       [5.],\n       [5.],\n       [5.],\n       [6.],\n       [5.],\n       [5.],\n       [6.],\n       [7.],\n       [5.],\n       [6.],\n       [5.],\n       [5.],\n       [6.],\n       [5.],\n       [6.],\n       [7.],\n       [5.],\n       [5.],\n       [5.],\n       [5.],\n       [6.],\n       [5.],\n       [5.],\n       [6.],\n       [5.],\n       [5.],\n       [5.],\n       [5.],\n       [5.],\n       [5.],\n       [7.],\n       [6.],\n       [7.],\n       [5.],\n       [6.],\n       [5.],\n       [5.],\n       [6.],\n       [6.],\n       [4.],\n       [6.],\n       [7.],\n       [5.],\n       [5.],\n       [6.],\n       [6.],\n       [6.],\n       [6.],\n       [6.],\n       [5.],\n       [6.],\n       [5.],\n       [6.],\n       [6.],\n       [6.],\n       [5.],\n       [6.],\n       [6.],\n       [5.],\n       [5.],\n       [5.],\n       [5.],\n       [6.],\n       [6.],\n       [6.]])"
     },
     "execution_count": 227,
     "metadata": {},
     "output_type": "execute_result"
    }
   ],
   "source": [
    "inscaled_y_test = scalerY.inverse_transform(pd.DataFrame(y_test)).round()\n",
    "inscaled_y_test"
   ]
  },
  {
   "cell_type": "code",
   "execution_count": 228,
   "metadata": {},
   "outputs": [
    {
     "data": {
      "text/plain": "array([[5.],\n       [6.],\n       [6.],\n       [6.],\n       [5.],\n       [5.],\n       [6.],\n       [6.],\n       [6.],\n       [6.],\n       [7.],\n       [5.],\n       [4.],\n       [5.],\n       [5.],\n       [6.],\n       [6.],\n       [5.],\n       [6.],\n       [6.],\n       [6.],\n       [5.],\n       [6.],\n       [7.],\n       [6.],\n       [5.],\n       [5.],\n       [5.],\n       [6.],\n       [5.],\n       [5.],\n       [6.],\n       [6.],\n       [6.],\n       [6.],\n       [5.],\n       [7.],\n       [6.],\n       [6.],\n       [6.],\n       [5.],\n       [6.],\n       [5.],\n       [5.],\n       [5.],\n       [5.],\n       [6.],\n       [6.],\n       [6.],\n       [5.],\n       [5.],\n       [6.],\n       [6.],\n       [5.],\n       [5.],\n       [6.],\n       [6.],\n       [7.],\n       [6.],\n       [6.],\n       [5.],\n       [5.],\n       [6.],\n       [5.],\n       [5.],\n       [5.],\n       [5.],\n       [6.],\n       [6.],\n       [6.],\n       [5.],\n       [7.],\n       [6.],\n       [6.],\n       [6.],\n       [6.],\n       [5.],\n       [6.],\n       [6.],\n       [5.],\n       [6.],\n       [6.],\n       [6.],\n       [5.],\n       [5.],\n       [5.],\n       [7.],\n       [5.],\n       [5.],\n       [6.],\n       [5.],\n       [5.],\n       [5.],\n       [5.],\n       [7.],\n       [5.],\n       [6.],\n       [6.],\n       [6.],\n       [7.],\n       [5.],\n       [5.],\n       [6.],\n       [5.],\n       [5.],\n       [6.],\n       [5.],\n       [5.],\n       [5.],\n       [5.],\n       [7.],\n       [5.],\n       [6.],\n       [5.],\n       [5.],\n       [5.],\n       [6.],\n       [6.],\n       [5.],\n       [5.],\n       [5.],\n       [6.],\n       [5.],\n       [7.],\n       [5.],\n       [6.],\n       [6.],\n       [6.],\n       [7.],\n       [5.],\n       [5.],\n       [5.],\n       [7.],\n       [5.],\n       [6.],\n       [6.],\n       [5.],\n       [5.],\n       [5.],\n       [6.],\n       [6.],\n       [7.],\n       [6.],\n       [6.],\n       [6.],\n       [6.],\n       [7.],\n       [5.],\n       [5.],\n       [6.],\n       [5.],\n       [5.],\n       [5.],\n       [6.],\n       [6.],\n       [5.],\n       [7.],\n       [6.],\n       [6.],\n       [4.],\n       [6.],\n       [5.],\n       [5.],\n       [5.],\n       [6.],\n       [5.],\n       [5.],\n       [6.],\n       [6.],\n       [5.],\n       [5.],\n       [5.],\n       [6.],\n       [7.],\n       [5.],\n       [6.],\n       [6.],\n       [5.],\n       [5.],\n       [7.],\n       [5.],\n       [5.],\n       [6.],\n       [5.],\n       [6.],\n       [7.],\n       [6.],\n       [5.],\n       [5.],\n       [5.],\n       [6.],\n       [5.],\n       [6.],\n       [5.],\n       [6.],\n       [6.],\n       [5.],\n       [5.],\n       [5.],\n       [6.],\n       [5.],\n       [5.],\n       [6.],\n       [6.],\n       [6.],\n       [5.],\n       [6.],\n       [5.],\n       [5.],\n       [5.],\n       [5.],\n       [6.],\n       [5.],\n       [5.],\n       [5.],\n       [6.],\n       [6.],\n       [6.],\n       [6.],\n       [5.],\n       [6.],\n       [7.],\n       [6.],\n       [6.],\n       [6.],\n       [6.],\n       [6.],\n       [6.],\n       [6.],\n       [6.],\n       [6.],\n       [6.],\n       [6.],\n       [5.],\n       [7.],\n       [6.],\n       [5.],\n       [6.],\n       [6.],\n       [5.],\n       [7.],\n       [6.],\n       [7.],\n       [6.],\n       [7.],\n       [7.],\n       [5.],\n       [6.],\n       [6.],\n       [5.],\n       [6.],\n       [5.],\n       [6.],\n       [5.],\n       [5.],\n       [5.],\n       [5.],\n       [6.],\n       [7.],\n       [6.],\n       [6.],\n       [5.],\n       [5.],\n       [5.],\n       [6.],\n       [6.],\n       [6.],\n       [6.],\n       [5.],\n       [5.],\n       [4.],\n       [6.],\n       [5.],\n       [6.],\n       [6.],\n       [5.],\n       [6.],\n       [5.],\n       [6.],\n       [6.],\n       [4.],\n       [5.],\n       [7.],\n       [5.],\n       [5.],\n       [6.],\n       [7.],\n       [6.],\n       [5.],\n       [5.],\n       [6.],\n       [6.],\n       [5.],\n       [5.],\n       [5.],\n       [7.],\n       [7.],\n       [7.],\n       [5.],\n       [6.],\n       [6.],\n       [6.],\n       [5.],\n       [6.],\n       [5.],\n       [6.],\n       [6.],\n       [5.],\n       [6.],\n       [6.],\n       [5.],\n       [5.],\n       [6.],\n       [6.],\n       [6.],\n       [5.],\n       [6.],\n       [5.],\n       [6.],\n       [5.],\n       [6.],\n       [5.],\n       [6.],\n       [6.],\n       [6.],\n       [5.],\n       [5.],\n       [6.],\n       [5.],\n       [5.],\n       [5.],\n       [5.],\n       [6.],\n       [7.],\n       [5.],\n       [7.],\n       [6.],\n       [5.],\n       [7.],\n       [6.],\n       [5.],\n       [6.],\n       [6.],\n       [6.],\n       [6.],\n       [5.],\n       [5.],\n       [6.],\n       [6.],\n       [6.],\n       [6.],\n       [5.],\n       [5.],\n       [5.],\n       [5.],\n       [6.],\n       [6.],\n       [5.],\n       [6.],\n       [6.],\n       [5.],\n       [5.],\n       [6.],\n       [6.],\n       [5.],\n       [7.],\n       [5.],\n       [6.],\n       [6.],\n       [6.],\n       [7.],\n       [5.],\n       [5.],\n       [5.],\n       [5.],\n       [5.],\n       [6.],\n       [5.],\n       [5.],\n       [6.],\n       [5.],\n       [6.],\n       [5.],\n       [5.],\n       [6.],\n       [5.],\n       [6.],\n       [5.],\n       [6.],\n       [7.],\n       [5.],\n       [6.],\n       [7.],\n       [6.],\n       [5.],\n       [5.],\n       [5.],\n       [6.],\n       [5.],\n       [6.]])"
     },
     "execution_count": 228,
     "metadata": {},
     "output_type": "execute_result"
    }
   ],
   "source": [
    "inscaled_y_pred_neigh = scalerY.inverse_transform(pd.DataFrame(y_pred_neigh)).round()\n",
    "inscaled_y_pred_neigh"
   ]
  },
  {
   "cell_type": "markdown",
   "metadata": {},
   "source": [
    "### R2 Score for original Values"
   ]
  },
  {
   "cell_type": "code",
   "execution_count": 229,
   "metadata": {},
   "outputs": [
    {
     "data": {
      "text/plain": "0.09429886060303905"
     },
     "execution_count": 229,
     "metadata": {},
     "output_type": "execute_result"
    }
   ],
   "source": [
    "r2_score(inscaled_y_test,inscaled_y_pred_neigh)"
   ]
  },
  {
   "cell_type": "markdown",
   "metadata": {},
   "source": [
    "### Show Evaluation as Confusion Matrix"
   ]
  },
  {
   "cell_type": "code",
   "execution_count": 230,
   "metadata": {},
   "outputs": [
    {
     "data": {
      "text/plain": "<Figure size 640x480 with 2 Axes>",
      "image/png": "[encoded data removed]"
     },
     "metadata": {},
     "output_type": "display_data"
    }
   ],
   "source": [
    "from sklearn.metrics import ConfusionMatrixDisplay\n",
    "\n",
    "ConfusionMatrixDisplay.from_predictions(inscaled_y_test,inscaled_y_pred_neigh,cmap='Blues')\n",
    "\n",
    "plt.show()"
   ]
  },
  {
   "cell_type": "markdown",
   "metadata": {},
   "source": [
    "## Train Model with 3-fold Cross Validation"
   ]
  },
  {
   "cell_type": "code",
   "execution_count": 231,
   "metadata": {},
   "outputs": [
    {
     "data": {
      "text/plain": "array([0.26598877, 0.26948965, 0.20219879])"
     },
     "execution_count": 231,
     "metadata": {},
     "output_type": "execute_result"
    }
   ],
   "source": [
    "from sklearn.model_selection import cross_val_score\n",
    "\n",
    "neigh_cv = KNeighborsRegressor()\n",
    "scores_neigh = cross_val_score(neigh_cv, X_train, y_train, cv=3)\n",
    "scores_neigh"
   ]
  },
  {
   "cell_type": "markdown",
   "metadata": {},
   "source": [
    "## Evaluate Model"
   ]
  },
  {
   "cell_type": "code",
   "execution_count": 232,
   "metadata": {},
   "outputs": [
    {
     "name": "stdout",
     "output_type": "stream",
     "text": [
      "0.25 accuracy with a standard deviation of 0.03\n"
     ]
    }
   ],
   "source": [
    "print(\"%0.2f accuracy with a standard deviation of %0.2f\" % (scores_neigh.mean(), scores_neigh.std()))"
   ]
  },
  {
   "cell_type": "markdown",
   "metadata": {},
   "source": [
    "---\n",
    "# Support Vector Regession"
   ]
  },
  {
   "cell_type": "markdown",
   "metadata": {},
   "source": [
    "### Model Training"
   ]
  },
  {
   "cell_type": "code",
   "execution_count": 233,
   "metadata": {},
   "outputs": [],
   "source": [
    "from sklearn.svm import SVR\n",
    "from sklearn.metrics import r2_score\n",
    "svr = SVR()\n",
    "svr.fit(X_train, y_train)\n",
    "\n",
    "y_pred_svr = svr.predict(X_test)"
   ]
  },
  {
   "cell_type": "markdown",
   "metadata": {},
   "source": [
    "### R2 Score for Standadized Values"
   ]
  },
  {
   "cell_type": "code",
   "execution_count": 234,
   "metadata": {},
   "outputs": [
    {
     "data": {
      "text/plain": "0.3053210600132791"
     },
     "execution_count": 234,
     "metadata": {},
     "output_type": "execute_result"
    }
   ],
   "source": [
    "r2_score(y_test,y_pred_svr)"
   ]
  },
  {
   "cell_type": "markdown",
   "metadata": {},
   "source": [
    "### Compare original Values with predicted, rounded Values"
   ]
  },
  {
   "cell_type": "code",
   "execution_count": 235,
   "metadata": {},
   "outputs": [
    {
     "data": {
      "text/plain": "array([[6.],\n       [6.],\n       [7.],\n       [6.],\n       [6.],\n       [5.],\n       [6.],\n       [6.],\n       [5.],\n       [6.],\n       [7.],\n       [7.],\n       [5.],\n       [5.],\n       [5.],\n       [6.],\n       [6.],\n       [7.],\n       [7.],\n       [5.],\n       [6.],\n       [6.],\n       [7.],\n       [5.],\n       [7.],\n       [5.],\n       [5.],\n       [5.],\n       [7.],\n       [5.],\n       [5.],\n       [6.],\n       [5.],\n       [5.],\n       [4.],\n       [5.],\n       [7.],\n       [6.],\n       [5.],\n       [6.],\n       [5.],\n       [7.],\n       [5.],\n       [6.],\n       [6.],\n       [4.],\n       [6.],\n       [7.],\n       [6.],\n       [5.],\n       [6.],\n       [6.],\n       [4.],\n       [6.],\n       [5.],\n       [6.],\n       [7.],\n       [7.],\n       [7.],\n       [5.],\n       [6.],\n       [5.],\n       [6.],\n       [4.],\n       [5.],\n       [6.],\n       [5.],\n       [5.],\n       [6.],\n       [4.],\n       [5.],\n       [6.],\n       [7.],\n       [6.],\n       [6.],\n       [6.],\n       [5.],\n       [6.],\n       [5.],\n       [5.],\n       [5.],\n       [6.],\n       [5.],\n       [5.],\n       [5.],\n       [5.],\n       [6.],\n       [5.],\n       [6.],\n       [6.],\n       [5.],\n       [5.],\n       [5.],\n       [6.],\n       [6.],\n       [6.],\n       [5.],\n       [7.],\n       [6.],\n       [6.],\n       [5.],\n       [5.],\n       [6.],\n       [5.],\n       [5.],\n       [6.],\n       [5.],\n       [6.],\n       [5.],\n       [6.],\n       [7.],\n       [6.],\n       [5.],\n       [5.],\n       [6.],\n       [6.],\n       [6.],\n       [6.],\n       [6.],\n       [6.],\n       [5.],\n       [5.],\n       [5.],\n       [7.],\n       [5.],\n       [6.],\n       [6.],\n       [6.],\n       [7.],\n       [6.],\n       [5.],\n       [6.],\n       [7.],\n       [5.],\n       [6.],\n       [4.],\n       [5.],\n       [5.],\n       [6.],\n       [7.],\n       [5.],\n       [7.],\n       [6.],\n       [6.],\n       [6.],\n       [6.],\n       [6.],\n       [6.],\n       [6.],\n       [6.],\n       [6.],\n       [5.],\n       [6.],\n       [6.],\n       [5.],\n       [5.],\n       [7.],\n       [5.],\n       [5.],\n       [3.],\n       [6.],\n       [5.],\n       [6.],\n       [6.],\n       [7.],\n       [6.],\n       [5.],\n       [8.],\n       [6.],\n       [5.],\n       [4.],\n       [5.],\n       [6.],\n       [7.],\n       [5.],\n       [7.],\n       [6.],\n       [6.],\n       [5.],\n       [6.],\n       [6.],\n       [5.],\n       [7.],\n       [6.],\n       [5.],\n       [7.],\n       [5.],\n       [5.],\n       [5.],\n       [4.],\n       [6.],\n       [5.],\n       [6.],\n       [6.],\n       [6.],\n       [6.],\n       [5.],\n       [5.],\n       [5.],\n       [6.],\n       [5.],\n       [5.],\n       [6.],\n       [6.],\n       [6.],\n       [5.],\n       [6.],\n       [6.],\n       [6.],\n       [5.],\n       [7.],\n       [6.],\n       [5.],\n       [5.],\n       [5.],\n       [6.],\n       [5.],\n       [5.],\n       [7.],\n       [6.],\n       [6.],\n       [7.],\n       [5.],\n       [6.],\n       [6.],\n       [7.],\n       [6.],\n       [5.],\n       [6.],\n       [5.],\n       [6.],\n       [5.],\n       [6.],\n       [5.],\n       [7.],\n       [5.],\n       [5.],\n       [7.],\n       [6.],\n       [5.],\n       [7.],\n       [5.],\n       [6.],\n       [5.],\n       [6.],\n       [7.],\n       [4.],\n       [6.],\n       [6.],\n       [6.],\n       [7.],\n       [5.],\n       [5.],\n       [4.],\n       [5.],\n       [6.],\n       [6.],\n       [6.],\n       [6.],\n       [5.],\n       [6.],\n       [5.],\n       [5.],\n       [5.],\n       [7.],\n       [5.],\n       [5.],\n       [5.],\n       [4.],\n       [5.],\n       [5.],\n       [6.],\n       [5.],\n       [6.],\n       [5.],\n       [6.],\n       [6.],\n       [5.],\n       [6.],\n       [6.],\n       [5.],\n       [6.],\n       [7.],\n       [4.],\n       [6.],\n       [5.],\n       [6.],\n       [7.],\n       [5.],\n       [5.],\n       [7.],\n       [6.],\n       [5.],\n       [5.],\n       [6.],\n       [7.],\n       [7.],\n       [7.],\n       [5.],\n       [7.],\n       [5.],\n       [7.],\n       [5.],\n       [5.],\n       [6.],\n       [6.],\n       [6.],\n       [5.],\n       [5.],\n       [6.],\n       [4.],\n       [6.],\n       [5.],\n       [6.],\n       [6.],\n       [6.],\n       [6.],\n       [5.],\n       [6.],\n       [6.],\n       [5.],\n       [5.],\n       [6.],\n       [6.],\n       [7.],\n       [6.],\n       [5.],\n       [5.],\n       [5.],\n       [6.],\n       [5.],\n       [5.],\n       [8.],\n       [6.],\n       [6.],\n       [5.],\n       [5.],\n       [5.],\n       [6.],\n       [5.],\n       [5.],\n       [6.],\n       [7.],\n       [5.],\n       [6.],\n       [5.],\n       [5.],\n       [6.],\n       [5.],\n       [6.],\n       [7.],\n       [5.],\n       [5.],\n       [5.],\n       [5.],\n       [6.],\n       [5.],\n       [5.],\n       [6.],\n       [5.],\n       [5.],\n       [5.],\n       [5.],\n       [5.],\n       [5.],\n       [7.],\n       [6.],\n       [7.],\n       [5.],\n       [6.],\n       [5.],\n       [5.],\n       [6.],\n       [6.],\n       [4.],\n       [6.],\n       [7.],\n       [5.],\n       [5.],\n       [6.],\n       [6.],\n       [6.],\n       [6.],\n       [6.],\n       [5.],\n       [6.],\n       [5.],\n       [6.],\n       [6.],\n       [6.],\n       [5.],\n       [6.],\n       [6.],\n       [5.],\n       [5.],\n       [5.],\n       [5.],\n       [6.],\n       [6.],\n       [6.]])"
     },
     "execution_count": 235,
     "metadata": {},
     "output_type": "execute_result"
    }
   ],
   "source": [
    "inscaled_y_test"
   ]
  },
  {
   "cell_type": "code",
   "execution_count": 236,
   "metadata": {},
   "outputs": [
    {
     "data": {
      "text/plain": "array([[5.],\n       [6.],\n       [5.],\n       [6.],\n       [5.],\n       [5.],\n       [6.],\n       [6.],\n       [5.],\n       [5.],\n       [7.],\n       [5.],\n       [5.],\n       [5.],\n       [5.],\n       [6.],\n       [6.],\n       [5.],\n       [5.],\n       [6.],\n       [6.],\n       [5.],\n       [6.],\n       [6.],\n       [6.],\n       [5.],\n       [6.],\n       [5.],\n       [5.],\n       [5.],\n       [5.],\n       [7.],\n       [6.],\n       [5.],\n       [5.],\n       [5.],\n       [7.],\n       [5.],\n       [5.],\n       [6.],\n       [5.],\n       [6.],\n       [5.],\n       [6.],\n       [5.],\n       [5.],\n       [5.],\n       [6.],\n       [5.],\n       [5.],\n       [6.],\n       [6.],\n       [5.],\n       [6.],\n       [5.],\n       [6.],\n       [6.],\n       [7.],\n       [6.],\n       [5.],\n       [6.],\n       [5.],\n       [6.],\n       [5.],\n       [5.],\n       [6.],\n       [5.],\n       [6.],\n       [5.],\n       [6.],\n       [5.],\n       [7.],\n       [5.],\n       [6.],\n       [6.],\n       [6.],\n       [5.],\n       [5.],\n       [6.],\n       [5.],\n       [7.],\n       [6.],\n       [6.],\n       [5.],\n       [5.],\n       [6.],\n       [7.],\n       [5.],\n       [5.],\n       [5.],\n       [5.],\n       [5.],\n       [5.],\n       [6.],\n       [7.],\n       [5.],\n       [5.],\n       [6.],\n       [6.],\n       [7.],\n       [5.],\n       [5.],\n       [7.],\n       [5.],\n       [5.],\n       [6.],\n       [5.],\n       [5.],\n       [5.],\n       [5.],\n       [7.],\n       [5.],\n       [6.],\n       [5.],\n       [5.],\n       [5.],\n       [6.],\n       [6.],\n       [5.],\n       [5.],\n       [5.],\n       [6.],\n       [5.],\n       [6.],\n       [5.],\n       [6.],\n       [6.],\n       [6.],\n       [6.],\n       [6.],\n       [5.],\n       [6.],\n       [7.],\n       [5.],\n       [6.],\n       [6.],\n       [5.],\n       [5.],\n       [5.],\n       [5.],\n       [6.],\n       [7.],\n       [6.],\n       [6.],\n       [7.],\n       [6.],\n       [7.],\n       [5.],\n       [5.],\n       [5.],\n       [5.],\n       [5.],\n       [5.],\n       [6.],\n       [5.],\n       [5.],\n       [6.],\n       [5.],\n       [5.],\n       [5.],\n       [6.],\n       [5.],\n       [5.],\n       [5.],\n       [6.],\n       [5.],\n       [5.],\n       [7.],\n       [6.],\n       [5.],\n       [5.],\n       [6.],\n       [6.],\n       [6.],\n       [5.],\n       [6.],\n       [5.],\n       [5.],\n       [5.],\n       [6.],\n       [5.],\n       [5.],\n       [6.],\n       [6.],\n       [6.],\n       [7.],\n       [6.],\n       [5.],\n       [5.],\n       [5.],\n       [6.],\n       [5.],\n       [5.],\n       [5.],\n       [6.],\n       [6.],\n       [5.],\n       [5.],\n       [5.],\n       [6.],\n       [5.],\n       [5.],\n       [6.],\n       [6.],\n       [6.],\n       [5.],\n       [6.],\n       [5.],\n       [5.],\n       [6.],\n       [6.],\n       [6.],\n       [6.],\n       [5.],\n       [5.],\n       [6.],\n       [6.],\n       [6.],\n       [6.],\n       [5.],\n       [6.],\n       [6.],\n       [5.],\n       [6.],\n       [6.],\n       [6.],\n       [6.],\n       [5.],\n       [6.],\n       [5.],\n       [6.],\n       [6.],\n       [6.],\n       [5.],\n       [7.],\n       [6.],\n       [5.],\n       [6.],\n       [6.],\n       [5.],\n       [7.],\n       [5.],\n       [7.],\n       [5.],\n       [6.],\n       [7.],\n       [5.],\n       [6.],\n       [5.],\n       [6.],\n       [6.],\n       [5.],\n       [5.],\n       [6.],\n       [5.],\n       [5.],\n       [5.],\n       [6.],\n       [7.],\n       [6.],\n       [6.],\n       [5.],\n       [5.],\n       [5.],\n       [6.],\n       [6.],\n       [5.],\n       [6.],\n       [6.],\n       [5.],\n       [5.],\n       [6.],\n       [5.],\n       [6.],\n       [6.],\n       [6.],\n       [5.],\n       [5.],\n       [6.],\n       [5.],\n       [5.],\n       [5.],\n       [7.],\n       [5.],\n       [6.],\n       [6.],\n       [7.],\n       [6.],\n       [5.],\n       [5.],\n       [6.],\n       [5.],\n       [5.],\n       [5.],\n       [5.],\n       [7.],\n       [7.],\n       [7.],\n       [5.],\n       [6.],\n       [6.],\n       [6.],\n       [5.],\n       [6.],\n       [6.],\n       [6.],\n       [7.],\n       [5.],\n       [5.],\n       [6.],\n       [5.],\n       [6.],\n       [6.],\n       [6.],\n       [6.],\n       [5.],\n       [6.],\n       [5.],\n       [5.],\n       [5.],\n       [6.],\n       [5.],\n       [6.],\n       [5.],\n       [6.],\n       [5.],\n       [5.],\n       [6.],\n       [5.],\n       [5.],\n       [5.],\n       [5.],\n       [6.],\n       [7.],\n       [5.],\n       [6.],\n       [6.],\n       [5.],\n       [7.],\n       [6.],\n       [5.],\n       [6.],\n       [6.],\n       [5.],\n       [6.],\n       [5.],\n       [5.],\n       [6.],\n       [5.],\n       [6.],\n       [6.],\n       [5.],\n       [5.],\n       [5.],\n       [5.],\n       [5.],\n       [6.],\n       [5.],\n       [6.],\n       [6.],\n       [6.],\n       [5.],\n       [5.],\n       [6.],\n       [5.],\n       [6.],\n       [5.],\n       [7.],\n       [6.],\n       [6.],\n       [6.],\n       [5.],\n       [6.],\n       [5.],\n       [5.],\n       [6.],\n       [6.],\n       [5.],\n       [5.],\n       [6.],\n       [5.],\n       [6.],\n       [5.],\n       [5.],\n       [5.],\n       [5.],\n       [6.],\n       [5.],\n       [6.],\n       [6.],\n       [5.],\n       [6.],\n       [7.],\n       [5.],\n       [5.],\n       [5.],\n       [5.],\n       [6.],\n       [5.],\n       [6.]])"
     },
     "execution_count": 236,
     "metadata": {},
     "output_type": "execute_result"
    }
   ],
   "source": [
    "inscaled_y_pred_svr = scalerY.inverse_transform(pd.DataFrame(y_pred_svr)).round()\n",
    "inscaled_y_pred_svr"
   ]
  },
  {
   "cell_type": "markdown",
   "metadata": {},
   "source": [
    "### R2 Score for original Values"
   ]
  },
  {
   "cell_type": "code",
   "execution_count": 237,
   "metadata": {},
   "outputs": [
    {
     "data": {
      "text/plain": "0.11507182251581338"
     },
     "execution_count": 237,
     "metadata": {},
     "output_type": "execute_result"
    }
   ],
   "source": [
    "r2_score(inscaled_y_test,inscaled_y_pred_svr)"
   ]
  },
  {
   "cell_type": "markdown",
   "metadata": {},
   "source": [
    "### Show Evaluation as Confusion Matrix"
   ]
  },
  {
   "cell_type": "code",
   "execution_count": 238,
   "metadata": {},
   "outputs": [
    {
     "data": {
      "text/plain": "<Figure size 640x480 with 2 Axes>",
      "image/png": "[encoded data removed]"
     },
     "metadata": {},
     "output_type": "display_data"
    }
   ],
   "source": [
    "from sklearn.metrics import ConfusionMatrixDisplay\n",
    "\n",
    "ConfusionMatrixDisplay.from_predictions(inscaled_y_test,inscaled_y_pred_svr,cmap='Blues')\n",
    "\n",
    "plt.show()"
   ]
  },
  {
   "cell_type": "markdown",
   "metadata": {},
   "source": [
    "## Train Model with 3-fold Cross Validation"
   ]
  },
  {
   "cell_type": "code",
   "execution_count": 239,
   "metadata": {},
   "outputs": [
    {
     "data": {
      "text/plain": "array([0.36290655, 0.41416078, 0.33735259])"
     },
     "execution_count": 239,
     "metadata": {},
     "output_type": "execute_result"
    }
   ],
   "source": [
    "svr_cv = SVR()\n",
    "\n",
    "scores_svr = cross_val_score(svr_cv, X_train, y_train, cv=3)\n",
    "scores_svr"
   ]
  },
  {
   "cell_type": "markdown",
   "metadata": {},
   "source": [
    "## Evaluate Model"
   ]
  },
  {
   "cell_type": "code",
   "execution_count": 240,
   "metadata": {},
   "outputs": [
    {
     "name": "stdout",
     "output_type": "stream",
     "text": [
      "0.37 accuracy with a standard deviation of 0.03\n"
     ]
    }
   ],
   "source": [
    "print(\"%0.2f accuracy with a standard deviation of %0.2f\" % (scores_svr.mean(), scores_svr.std()))"
   ]
  }
 ],
 "metadata": {
  "kernelspec": {
   "display_name": "Python 3 (ipykernel)",
   "language": "python",
   "name": "python3"
  },
  "language_info": {
   "codemirror_mode": {
    "name": "ipython",
    "version": 3
   },
   "file_extension": ".py",
   "mimetype": "text/x-python",
   "name": "python",
   "nbconvert_exporter": "python",
   "pygments_lexer": "ipython3",
   "version": "3.10.9"
  }
 },
 "nbformat": 4,
 "nbformat_minor": 1
}
