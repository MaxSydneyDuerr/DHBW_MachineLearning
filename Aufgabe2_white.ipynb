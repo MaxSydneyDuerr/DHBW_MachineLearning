{
 "cells": [
  {
   "cell_type": "markdown",
   "source": [
    "---\n",
    "# Data Understanding"
   ],
   "metadata": {
    "collapsed": false
   }
  },
  {
   "cell_type": "code",
   "execution_count": 49,
   "metadata": {
    "collapsed": true
   },
   "outputs": [
    {
     "data": {
      "text/plain": "   fixed acidity  volatile acidity  citric acid  residual sugar  chlorides  \\\n0            7.0              0.27         0.36            20.7      0.045   \n1            6.3              0.30         0.34             1.6      0.049   \n2            8.1              0.28         0.40             6.9      0.050   \n3            7.2              0.23         0.32             8.5      0.058   \n4            7.2              0.23         0.32             8.5      0.058   \n\n   free sulfur dioxide  total sulfur dioxide  density    pH  sulphates  \\\n0                 45.0                 170.0   1.0010  3.00       0.45   \n1                 14.0                 132.0   0.9940  3.30       0.49   \n2                 30.0                  97.0   0.9951  3.26       0.44   \n3                 47.0                 186.0   0.9956  3.19       0.40   \n4                 47.0                 186.0   0.9956  3.19       0.40   \n\n   alcohol  quality  \n0      8.8        6  \n1      9.5        6  \n2     10.1        6  \n3      9.9        6  \n4      9.9        6  ",
      "text/html": "<div>\n<style scoped>\n    .dataframe tbody tr th:only-of-type {\n        vertical-align: middle;\n    }\n\n    .dataframe tbody tr th {\n        vertical-align: top;\n    }\n\n    .dataframe thead th {\n        text-align: right;\n    }\n</style>\n<table border=\"1\" class=\"dataframe\">\n  <thead>\n    <tr style=\"text-align: right;\">\n      <th></th>\n      <th>fixed acidity</th>\n      <th>volatile acidity</th>\n      <th>citric acid</th>\n      <th>residual sugar</th>\n      <th>chlorides</th>\n      <th>free sulfur dioxide</th>\n      <th>total sulfur dioxide</th>\n      <th>density</th>\n      <th>pH</th>\n      <th>sulphates</th>\n      <th>alcohol</th>\n      <th>quality</th>\n    </tr>\n  </thead>\n  <tbody>\n    <tr>\n      <th>0</th>\n      <td>7.0</td>\n      <td>0.27</td>\n      <td>0.36</td>\n      <td>20.7</td>\n      <td>0.045</td>\n      <td>45.0</td>\n      <td>170.0</td>\n      <td>1.0010</td>\n      <td>3.00</td>\n      <td>0.45</td>\n      <td>8.8</td>\n      <td>6</td>\n    </tr>\n    <tr>\n      <th>1</th>\n      <td>6.3</td>\n      <td>0.30</td>\n      <td>0.34</td>\n      <td>1.6</td>\n      <td>0.049</td>\n      <td>14.0</td>\n      <td>132.0</td>\n      <td>0.9940</td>\n      <td>3.30</td>\n      <td>0.49</td>\n      <td>9.5</td>\n      <td>6</td>\n    </tr>\n    <tr>\n      <th>2</th>\n      <td>8.1</td>\n      <td>0.28</td>\n      <td>0.40</td>\n      <td>6.9</td>\n      <td>0.050</td>\n      <td>30.0</td>\n      <td>97.0</td>\n      <td>0.9951</td>\n      <td>3.26</td>\n      <td>0.44</td>\n      <td>10.1</td>\n      <td>6</td>\n    </tr>\n    <tr>\n      <th>3</th>\n      <td>7.2</td>\n      <td>0.23</td>\n      <td>0.32</td>\n      <td>8.5</td>\n      <td>0.058</td>\n      <td>47.0</td>\n      <td>186.0</td>\n      <td>0.9956</td>\n      <td>3.19</td>\n      <td>0.40</td>\n      <td>9.9</td>\n      <td>6</td>\n    </tr>\n    <tr>\n      <th>4</th>\n      <td>7.2</td>\n      <td>0.23</td>\n      <td>0.32</td>\n      <td>8.5</td>\n      <td>0.058</td>\n      <td>47.0</td>\n      <td>186.0</td>\n      <td>0.9956</td>\n      <td>3.19</td>\n      <td>0.40</td>\n      <td>9.9</td>\n      <td>6</td>\n    </tr>\n  </tbody>\n</table>\n</div>"
     },
     "execution_count": 49,
     "metadata": {},
     "output_type": "execute_result"
    }
   ],
   "source": [
    "import pandas as pd\n",
    "\n",
    "data_wine_white = pd.read_csv('./data/winequality-white.csv',delimiter=';')\n",
    "\n",
    "data_wine_white.head()\n",
    "\n"
   ]
  },
  {
   "cell_type": "code",
   "execution_count": 50,
   "outputs": [
    {
     "data": {
      "text/plain": "       fixed acidity  volatile acidity  citric acid  residual sugar  \\\ncount    4898.000000       4898.000000  4898.000000     4898.000000   \nmean        6.854788          0.278241     0.334192        6.391415   \nstd         0.843868          0.100795     0.121020        5.072058   \nmin         3.800000          0.080000     0.000000        0.600000   \n25%         6.300000          0.210000     0.270000        1.700000   \n50%         6.800000          0.260000     0.320000        5.200000   \n75%         7.300000          0.320000     0.390000        9.900000   \nmax        14.200000          1.100000     1.660000       65.800000   \n\n         chlorides  free sulfur dioxide  total sulfur dioxide      density  \\\ncount  4898.000000          4898.000000           4898.000000  4898.000000   \nmean      0.045772            35.308085            138.360657     0.994027   \nstd       0.021848            17.007137             42.498065     0.002991   \nmin       0.009000             2.000000              9.000000     0.987110   \n25%       0.036000            23.000000            108.000000     0.991723   \n50%       0.043000            34.000000            134.000000     0.993740   \n75%       0.050000            46.000000            167.000000     0.996100   \nmax       0.346000           289.000000            440.000000     1.038980   \n\n                pH    sulphates      alcohol      quality  \ncount  4898.000000  4898.000000  4898.000000  4898.000000  \nmean      3.188267     0.489847    10.514267     5.877909  \nstd       0.151001     0.114126     1.230621     0.885639  \nmin       2.720000     0.220000     8.000000     3.000000  \n25%       3.090000     0.410000     9.500000     5.000000  \n50%       3.180000     0.470000    10.400000     6.000000  \n75%       3.280000     0.550000    11.400000     6.000000  \nmax       3.820000     1.080000    14.200000     9.000000  ",
      "text/html": "<div>\n<style scoped>\n    .dataframe tbody tr th:only-of-type {\n        vertical-align: middle;\n    }\n\n    .dataframe tbody tr th {\n        vertical-align: top;\n    }\n\n    .dataframe thead th {\n        text-align: right;\n    }\n</style>\n<table border=\"1\" class=\"dataframe\">\n  <thead>\n    <tr style=\"text-align: right;\">\n      <th></th>\n      <th>fixed acidity</th>\n      <th>volatile acidity</th>\n      <th>citric acid</th>\n      <th>residual sugar</th>\n      <th>chlorides</th>\n      <th>free sulfur dioxide</th>\n      <th>total sulfur dioxide</th>\n      <th>density</th>\n      <th>pH</th>\n      <th>sulphates</th>\n      <th>alcohol</th>\n      <th>quality</th>\n    </tr>\n  </thead>\n  <tbody>\n    <tr>\n      <th>count</th>\n      <td>4898.000000</td>\n      <td>4898.000000</td>\n      <td>4898.000000</td>\n      <td>4898.000000</td>\n      <td>4898.000000</td>\n      <td>4898.000000</td>\n      <td>4898.000000</td>\n      <td>4898.000000</td>\n      <td>4898.000000</td>\n      <td>4898.000000</td>\n      <td>4898.000000</td>\n      <td>4898.000000</td>\n    </tr>\n    <tr>\n      <th>mean</th>\n      <td>6.854788</td>\n      <td>0.278241</td>\n      <td>0.334192</td>\n      <td>6.391415</td>\n      <td>0.045772</td>\n      <td>35.308085</td>\n      <td>138.360657</td>\n      <td>0.994027</td>\n      <td>3.188267</td>\n      <td>0.489847</td>\n      <td>10.514267</td>\n      <td>5.877909</td>\n    </tr>\n    <tr>\n      <th>std</th>\n      <td>0.843868</td>\n      <td>0.100795</td>\n      <td>0.121020</td>\n      <td>5.072058</td>\n      <td>0.021848</td>\n      <td>17.007137</td>\n      <td>42.498065</td>\n      <td>0.002991</td>\n      <td>0.151001</td>\n      <td>0.114126</td>\n      <td>1.230621</td>\n      <td>0.885639</td>\n    </tr>\n    <tr>\n      <th>min</th>\n      <td>3.800000</td>\n      <td>0.080000</td>\n      <td>0.000000</td>\n      <td>0.600000</td>\n      <td>0.009000</td>\n      <td>2.000000</td>\n      <td>9.000000</td>\n      <td>0.987110</td>\n      <td>2.720000</td>\n      <td>0.220000</td>\n      <td>8.000000</td>\n      <td>3.000000</td>\n    </tr>\n    <tr>\n      <th>25%</th>\n      <td>6.300000</td>\n      <td>0.210000</td>\n      <td>0.270000</td>\n      <td>1.700000</td>\n      <td>0.036000</td>\n      <td>23.000000</td>\n      <td>108.000000</td>\n      <td>0.991723</td>\n      <td>3.090000</td>\n      <td>0.410000</td>\n      <td>9.500000</td>\n      <td>5.000000</td>\n    </tr>\n    <tr>\n      <th>50%</th>\n      <td>6.800000</td>\n      <td>0.260000</td>\n      <td>0.320000</td>\n      <td>5.200000</td>\n      <td>0.043000</td>\n      <td>34.000000</td>\n      <td>134.000000</td>\n      <td>0.993740</td>\n      <td>3.180000</td>\n      <td>0.470000</td>\n      <td>10.400000</td>\n      <td>6.000000</td>\n    </tr>\n    <tr>\n      <th>75%</th>\n      <td>7.300000</td>\n      <td>0.320000</td>\n      <td>0.390000</td>\n      <td>9.900000</td>\n      <td>0.050000</td>\n      <td>46.000000</td>\n      <td>167.000000</td>\n      <td>0.996100</td>\n      <td>3.280000</td>\n      <td>0.550000</td>\n      <td>11.400000</td>\n      <td>6.000000</td>\n    </tr>\n    <tr>\n      <th>max</th>\n      <td>14.200000</td>\n      <td>1.100000</td>\n      <td>1.660000</td>\n      <td>65.800000</td>\n      <td>0.346000</td>\n      <td>289.000000</td>\n      <td>440.000000</td>\n      <td>1.038980</td>\n      <td>3.820000</td>\n      <td>1.080000</td>\n      <td>14.200000</td>\n      <td>9.000000</td>\n    </tr>\n  </tbody>\n</table>\n</div>"
     },
     "execution_count": 50,
     "metadata": {},
     "output_type": "execute_result"
    }
   ],
   "source": [
    "data_wine_white.describe()"
   ],
   "metadata": {
    "collapsed": false
   }
  },
  {
   "cell_type": "code",
   "execution_count": 51,
   "outputs": [
    {
     "data": {
      "text/plain": "(4898, 12)"
     },
     "execution_count": 51,
     "metadata": {},
     "output_type": "execute_result"
    }
   ],
   "source": [
    "data_wine_white.shape"
   ],
   "metadata": {
    "collapsed": false
   }
  },
  {
   "cell_type": "code",
   "execution_count": 52,
   "outputs": [
    {
     "data": {
      "text/plain": "<AxesSubplot: xlabel='quality', ylabel='count'>"
     },
     "execution_count": 52,
     "metadata": {},
     "output_type": "execute_result"
    },
    {
     "data": {
      "text/plain": "<Figure size 640x480 with 1 Axes>",
      "image/png": "[encoded data removed]"
     },
     "metadata": {},
     "output_type": "display_data"
    }
   ],
   "source": [
    "import matplotlib.pyplot as plt\n",
    "import seaborn as sns\n",
    "sns.countplot(x = data_wine_white.quality)"
   ],
   "metadata": {
    "collapsed": false
   }
  },
  {
   "cell_type": "markdown",
   "source": [
    "# Standardize Values"
   ],
   "metadata": {
    "collapsed": false
   }
  },
  {
   "cell_type": "code",
   "execution_count": 53,
   "outputs": [
    {
     "data": {
      "text/plain": "                 0             1             2             3             4   \\\ncount  4.898000e+03  4.898000e+03  4.898000e+03  4.898000e+03  4.898000e+03   \nmean  -3.481630e-16  4.497106e-16  1.160543e-17 -1.066249e-16  3.133467e-16   \nstd    1.000102e+00  1.000102e+00  1.000102e+00  1.000102e+00  1.000102e+00   \nmin   -3.620351e+00 -1.966985e+00 -2.761743e+00 -1.141944e+00 -1.683274e+00   \n25%   -6.575011e-01 -6.771010e-01 -5.304757e-01 -9.250474e-01 -4.473347e-01   \n50%   -6.493106e-02 -1.809917e-01 -1.172780e-01 -2.349217e-01 -1.269060e-01   \n75%    5.276390e-01  4.143393e-01  4.611988e-01  6.918185e-01  1.935226e-01   \nmax    8.705106e+00  8.153643e+00  1.095642e+01  1.171411e+01  1.374308e+01   \n\n                 5             6             7             8             9   \\\ncount  4.898000e+03  4.898000e+03  4.898000e+03  4.898000e+03  4.898000e+03   \nmean  -1.015476e-17 -4.642174e-17  3.247201e-14 -1.183754e-15 -8.218098e-16   \nstd    1.000102e+00  1.000102e+00  1.000102e+00  1.000102e+00  1.000102e+00   \nmin   -1.958677e+00 -3.044230e+00 -2.313038e+00 -3.101408e+00 -2.364709e+00   \n25%   -7.237750e-01 -7.144739e-01 -7.707066e-01 -6.508363e-01 -6.997104e-01   \n50%   -7.692173e-02 -1.026189e-01 -9.609320e-02 -5.475133e-02 -1.739212e-01   \n75%    6.287364e-01  6.739664e-01  6.930457e-01  6.075653e-01  5.271310e-01   \nmax    1.491831e+01  7.098444e+00  1.503130e+01  4.184075e+00  5.171602e+00   \n\n                 10  \ncount  4.898000e+03  \nmean  -3.713739e-16  \nstd    1.000102e+00  \nmin   -2.043297e+00  \n25%   -8.242757e-01  \n50%   -9.286267e-02  \n75%    7.198184e-01  \nmax    2.995326e+00  ",
      "text/html": "<div>\n<style scoped>\n    .dataframe tbody tr th:only-of-type {\n        vertical-align: middle;\n    }\n\n    .dataframe tbody tr th {\n        vertical-align: top;\n    }\n\n    .dataframe thead th {\n        text-align: right;\n    }\n</style>\n<table border=\"1\" class=\"dataframe\">\n  <thead>\n    <tr style=\"text-align: right;\">\n      <th></th>\n      <th>0</th>\n      <th>1</th>\n      <th>2</th>\n      <th>3</th>\n      <th>4</th>\n      <th>5</th>\n      <th>6</th>\n      <th>7</th>\n      <th>8</th>\n      <th>9</th>\n      <th>10</th>\n    </tr>\n  </thead>\n  <tbody>\n    <tr>\n      <th>count</th>\n      <td>4.898000e+03</td>\n      <td>4.898000e+03</td>\n      <td>4.898000e+03</td>\n      <td>4.898000e+03</td>\n      <td>4.898000e+03</td>\n      <td>4.898000e+03</td>\n      <td>4.898000e+03</td>\n      <td>4.898000e+03</td>\n      <td>4.898000e+03</td>\n      <td>4.898000e+03</td>\n      <td>4.898000e+03</td>\n    </tr>\n    <tr>\n      <th>mean</th>\n      <td>-3.481630e-16</td>\n      <td>4.497106e-16</td>\n      <td>1.160543e-17</td>\n      <td>-1.066249e-16</td>\n      <td>3.133467e-16</td>\n      <td>-1.015476e-17</td>\n      <td>-4.642174e-17</td>\n      <td>3.247201e-14</td>\n      <td>-1.183754e-15</td>\n      <td>-8.218098e-16</td>\n      <td>-3.713739e-16</td>\n    </tr>\n    <tr>\n      <th>std</th>\n      <td>1.000102e+00</td>\n      <td>1.000102e+00</td>\n      <td>1.000102e+00</td>\n      <td>1.000102e+00</td>\n      <td>1.000102e+00</td>\n      <td>1.000102e+00</td>\n      <td>1.000102e+00</td>\n      <td>1.000102e+00</td>\n      <td>1.000102e+00</td>\n      <td>1.000102e+00</td>\n      <td>1.000102e+00</td>\n    </tr>\n    <tr>\n      <th>min</th>\n      <td>-3.620351e+00</td>\n      <td>-1.966985e+00</td>\n      <td>-2.761743e+00</td>\n      <td>-1.141944e+00</td>\n      <td>-1.683274e+00</td>\n      <td>-1.958677e+00</td>\n      <td>-3.044230e+00</td>\n      <td>-2.313038e+00</td>\n      <td>-3.101408e+00</td>\n      <td>-2.364709e+00</td>\n      <td>-2.043297e+00</td>\n    </tr>\n    <tr>\n      <th>25%</th>\n      <td>-6.575011e-01</td>\n      <td>-6.771010e-01</td>\n      <td>-5.304757e-01</td>\n      <td>-9.250474e-01</td>\n      <td>-4.473347e-01</td>\n      <td>-7.237750e-01</td>\n      <td>-7.144739e-01</td>\n      <td>-7.707066e-01</td>\n      <td>-6.508363e-01</td>\n      <td>-6.997104e-01</td>\n      <td>-8.242757e-01</td>\n    </tr>\n    <tr>\n      <th>50%</th>\n      <td>-6.493106e-02</td>\n      <td>-1.809917e-01</td>\n      <td>-1.172780e-01</td>\n      <td>-2.349217e-01</td>\n      <td>-1.269060e-01</td>\n      <td>-7.692173e-02</td>\n      <td>-1.026189e-01</td>\n      <td>-9.609320e-02</td>\n      <td>-5.475133e-02</td>\n      <td>-1.739212e-01</td>\n      <td>-9.286267e-02</td>\n    </tr>\n    <tr>\n      <th>75%</th>\n      <td>5.276390e-01</td>\n      <td>4.143393e-01</td>\n      <td>4.611988e-01</td>\n      <td>6.918185e-01</td>\n      <td>1.935226e-01</td>\n      <td>6.287364e-01</td>\n      <td>6.739664e-01</td>\n      <td>6.930457e-01</td>\n      <td>6.075653e-01</td>\n      <td>5.271310e-01</td>\n      <td>7.198184e-01</td>\n    </tr>\n    <tr>\n      <th>max</th>\n      <td>8.705106e+00</td>\n      <td>8.153643e+00</td>\n      <td>1.095642e+01</td>\n      <td>1.171411e+01</td>\n      <td>1.374308e+01</td>\n      <td>1.491831e+01</td>\n      <td>7.098444e+00</td>\n      <td>1.503130e+01</td>\n      <td>4.184075e+00</td>\n      <td>5.171602e+00</td>\n      <td>2.995326e+00</td>\n    </tr>\n  </tbody>\n</table>\n</div>"
     },
     "execution_count": 53,
     "metadata": {},
     "output_type": "execute_result"
    }
   ],
   "source": [
    "from sklearn.preprocessing import StandardScaler\n",
    "scalerX = StandardScaler()\n",
    "X_scaled = scalerX.fit_transform(data_wine_white[data_wine_white.columns[~data_wine_white.columns.isin(['quality'])]])\n",
    "\n",
    "scalerY = StandardScaler()\n",
    "y_scaled = scalerY.fit_transform(data_wine_white[data_wine_white.columns[data_wine_white.columns.isin(['quality'])]])\n",
    "pd.DataFrame(X_scaled).describe()"
   ],
   "metadata": {
    "collapsed": false
   }
  },
  {
   "cell_type": "code",
   "execution_count": 54,
   "outputs": [
    {
     "data": {
      "text/plain": "            0         1         2         3         4         5         6   \\\n3620 -0.657501 -0.776323 -0.613115 -0.333511 -0.264233  4.274637  0.697499   \n1163 -1.368585 -0.180992 -0.530476 -0.451818  7.105626  2.245870  1.203456   \n2334  0.764667 -0.478657  0.130641  2.249531  0.559727  5.450734  1.732946   \n3444 -0.183445  0.215896  0.874397  2.436851  0.513951  1.746029  2.015341   \n802  -0.064931  1.108892  0.130641  1.027022 -0.081131  1.275590  1.921209   \n\n            7         8         9         10  \n3620 -0.417099 -0.783300  2.279762  0.150942  \n1163  0.057722  0.541334 -0.962605 -0.905544  \n2334  2.802989  1.667272 -0.524447 -1.311884  \n3444  1.850004 -0.518373  0.351868 -1.149348  \n802   1.244774 -0.783300  0.351868 -0.986812  ",
      "text/html": "<div>\n<style scoped>\n    .dataframe tbody tr th:only-of-type {\n        vertical-align: middle;\n    }\n\n    .dataframe tbody tr th {\n        vertical-align: top;\n    }\n\n    .dataframe thead th {\n        text-align: right;\n    }\n</style>\n<table border=\"1\" class=\"dataframe\">\n  <thead>\n    <tr style=\"text-align: right;\">\n      <th></th>\n      <th>0</th>\n      <th>1</th>\n      <th>2</th>\n      <th>3</th>\n      <th>4</th>\n      <th>5</th>\n      <th>6</th>\n      <th>7</th>\n      <th>8</th>\n      <th>9</th>\n      <th>10</th>\n    </tr>\n  </thead>\n  <tbody>\n    <tr>\n      <th>3620</th>\n      <td>-0.657501</td>\n      <td>-0.776323</td>\n      <td>-0.613115</td>\n      <td>-0.333511</td>\n      <td>-0.264233</td>\n      <td>4.274637</td>\n      <td>0.697499</td>\n      <td>-0.417099</td>\n      <td>-0.783300</td>\n      <td>2.279762</td>\n      <td>0.150942</td>\n    </tr>\n    <tr>\n      <th>1163</th>\n      <td>-1.368585</td>\n      <td>-0.180992</td>\n      <td>-0.530476</td>\n      <td>-0.451818</td>\n      <td>7.105626</td>\n      <td>2.245870</td>\n      <td>1.203456</td>\n      <td>0.057722</td>\n      <td>0.541334</td>\n      <td>-0.962605</td>\n      <td>-0.905544</td>\n    </tr>\n    <tr>\n      <th>2334</th>\n      <td>0.764667</td>\n      <td>-0.478657</td>\n      <td>0.130641</td>\n      <td>2.249531</td>\n      <td>0.559727</td>\n      <td>5.450734</td>\n      <td>1.732946</td>\n      <td>2.802989</td>\n      <td>1.667272</td>\n      <td>-0.524447</td>\n      <td>-1.311884</td>\n    </tr>\n    <tr>\n      <th>3444</th>\n      <td>-0.183445</td>\n      <td>0.215896</td>\n      <td>0.874397</td>\n      <td>2.436851</td>\n      <td>0.513951</td>\n      <td>1.746029</td>\n      <td>2.015341</td>\n      <td>1.850004</td>\n      <td>-0.518373</td>\n      <td>0.351868</td>\n      <td>-1.149348</td>\n    </tr>\n    <tr>\n      <th>802</th>\n      <td>-0.064931</td>\n      <td>1.108892</td>\n      <td>0.130641</td>\n      <td>1.027022</td>\n      <td>-0.081131</td>\n      <td>1.275590</td>\n      <td>1.921209</td>\n      <td>1.244774</td>\n      <td>-0.783300</td>\n      <td>0.351868</td>\n      <td>-0.986812</td>\n    </tr>\n  </tbody>\n</table>\n</div>"
     },
     "execution_count": 54,
     "metadata": {},
     "output_type": "execute_result"
    }
   ],
   "source": [
    "from sklearn.model_selection import train_test_split\n",
    "\n",
    "X_train, X_test, y_train, y_test = train_test_split(pd.DataFrame(X_scaled), pd.DataFrame(y_scaled), test_size=0.25)\n",
    "\n",
    "X_train.head()"
   ],
   "metadata": {
    "collapsed": false
   }
  },
  {
   "cell_type": "markdown",
   "source": [
    "---\n",
    "# Neuronales Netz"
   ],
   "metadata": {
    "collapsed": false
   }
  },
  {
   "cell_type": "markdown",
   "source": [
    "### Model Training"
   ],
   "metadata": {
    "collapsed": false
   }
  },
  {
   "cell_type": "code",
   "execution_count": 55,
   "outputs": [],
   "source": [
    "from tensorflow import keras\n",
    "from tensorflow.keras import layers\n",
    "\n",
    "model = keras.Sequential([\n",
    "    layers.Dense(units=128, activation='relu', input_shape=[11]),\n",
    "    layers.BatchNormalization(),\n",
    "\n",
    "    layers.Dropout(rate=0.3),\n",
    "    layers.Dense(units=128, activation='relu'),\n",
    "    layers.BatchNormalization(),\n",
    "\n",
    "    layers.Dropout(rate=0.3),\n",
    "    layers.Dense(units=128, activation='relu'),\n",
    "    layers.BatchNormalization(),\n",
    "\n",
    "    layers.Dropout(rate=0.3),\n",
    "    layers.Dense(units=128, activation='relu'),\n",
    "    layers.BatchNormalization(),\n",
    "\n",
    "    #linear output layer\n",
    "    layers.Dense(units=1)\n",
    "])\n",
    "\n",
    "model.compile(\n",
    "    optimizer = 'sgd',\n",
    "    loss = 'mean_absolute_error'\n",
    ")\n"
   ],
   "metadata": {
    "collapsed": false
   }
  },
  {
   "cell_type": "code",
   "execution_count": 56,
   "outputs": [],
   "source": [
    "from tensorflow.keras.callbacks import EarlyStopping\n",
    "\n",
    "early_stopping = EarlyStopping(\n",
    "    min_delta = 0.001,\n",
    "    patience = 20,\n",
    "    restore_best_weights = True\n",
    ")"
   ],
   "metadata": {
    "collapsed": false
   }
  },
  {
   "cell_type": "code",
   "execution_count": 57,
   "outputs": [],
   "source": [
    "history = model.fit(\n",
    "    X_train,y_train,\n",
    "    validation_data = (X_test,y_test),\n",
    "    batch_size = 256,\n",
    "    epochs = 500,\n",
    "    callbacks = [early_stopping],\n",
    "    verbose = 0\n",
    ")"
   ],
   "metadata": {
    "collapsed": false
   }
  },
  {
   "cell_type": "code",
   "execution_count": 58,
   "outputs": [
    {
     "name": "stdout",
     "output_type": "stream",
     "text": [
      "39/39 [==============================] - 0s 2ms/step\n"
     ]
    }
   ],
   "source": [
    "y_pred_tf = model.predict(X_test)"
   ],
   "metadata": {
    "collapsed": false
   }
  },
  {
   "cell_type": "markdown",
   "source": [
    "### R2 Score for Standadized Values"
   ],
   "metadata": {
    "collapsed": false
   }
  },
  {
   "cell_type": "code",
   "execution_count": 59,
   "outputs": [
    {
     "data": {
      "text/plain": "0.34847488358716183"
     },
     "execution_count": 59,
     "metadata": {},
     "output_type": "execute_result"
    }
   ],
   "source": [
    "from sklearn.metrics import r2_score\n",
    "r2_score(y_test,y_pred_tf)"
   ],
   "metadata": {
    "collapsed": false
   }
  },
  {
   "cell_type": "markdown",
   "source": [
    "### Compare original Values with predicted, rounded Values"
   ],
   "metadata": {
    "collapsed": false
   }
  },
  {
   "cell_type": "code",
   "execution_count": 60,
   "outputs": [
    {
     "data": {
      "text/plain": "array([[6.],\n       [5.],\n       [6.],\n       ...,\n       [5.],\n       [5.],\n       [8.]])"
     },
     "execution_count": 60,
     "metadata": {},
     "output_type": "execute_result"
    }
   ],
   "source": [
    "inscaled_y_test = scalerY.inverse_transform(pd.DataFrame(y_test)).round()\n",
    "inscaled_y_test"
   ],
   "metadata": {
    "collapsed": false
   }
  },
  {
   "cell_type": "code",
   "execution_count": 61,
   "outputs": [
    {
     "data": {
      "text/plain": "array([[6.],\n       [6.],\n       [7.],\n       ...,\n       [6.],\n       [5.],\n       [6.]], dtype=float32)"
     },
     "execution_count": 61,
     "metadata": {},
     "output_type": "execute_result"
    }
   ],
   "source": [
    "inscaled_y_pred_tf = scalerY.inverse_transform(pd.DataFrame(y_pred_tf)).round()\n",
    "inscaled_y_pred_tf"
   ],
   "metadata": {
    "collapsed": false
   }
  },
  {
   "cell_type": "markdown",
   "source": [
    "### R2 Score for original Values"
   ],
   "metadata": {
    "collapsed": false
   }
  },
  {
   "cell_type": "code",
   "execution_count": 62,
   "outputs": [
    {
     "data": {
      "text/plain": "0.25069312077629546"
     },
     "execution_count": 62,
     "metadata": {},
     "output_type": "execute_result"
    }
   ],
   "source": [
    "r2_score(inscaled_y_test,inscaled_y_pred_tf)"
   ],
   "metadata": {
    "collapsed": false
   }
  },
  {
   "cell_type": "markdown",
   "source": [
    "### Show Evaluation as Confusion Matrix"
   ],
   "metadata": {
    "collapsed": false
   }
  },
  {
   "cell_type": "code",
   "execution_count": 63,
   "outputs": [
    {
     "data": {
      "text/plain": "<Figure size 640x480 with 2 Axes>",
      "image/png": "[encoded data removed]"
     },
     "metadata": {},
     "output_type": "display_data"
    }
   ],
   "source": [
    "from sklearn.metrics import ConfusionMatrixDisplay\n",
    "\n",
    "ConfusionMatrixDisplay.from_predictions(inscaled_y_test,inscaled_y_pred_tf,cmap='Blues')\n",
    "\n",
    "plt.show()"
   ],
   "metadata": {
    "collapsed": false
   }
  },
  {
   "cell_type": "markdown",
   "source": [
    "## Train Model with 3-fold Cross Validation"
   ],
   "metadata": {
    "collapsed": false
   }
  },
  {
   "cell_type": "code",
   "execution_count": 65,
   "outputs": [
    {
     "name": "stdout",
     "output_type": "stream",
     "text": [
      "39/39 [==============================] - 0s 2ms/step\n",
      "0.3269200606209508\n",
      "39/39 [==============================] - 0s 1ms/step\n",
      "0.3528779966531267\n",
      "39/39 [==============================] - 0s 1ms/step\n",
      "0.3653906768780627\n"
     ]
    }
   ],
   "source": [
    "from sklearn.model_selection import KFold\n",
    "\n",
    "X_data = X_train.to_numpy()\n",
    "y_data = y_train.to_numpy()\n",
    "\n",
    "kfold = KFold(n_splits=3)\n",
    "for train, test in kfold.split(X_data, y_data):\n",
    "    model_cv = keras.Sequential([\n",
    "        layers.Dense(units=128, activation='relu', input_shape=[11]),\n",
    "        layers.BatchNormalization(),\n",
    "\n",
    "        layers.Dropout(rate=0.3),\n",
    "        layers.Dense(units=128, activation='relu'),\n",
    "        layers.BatchNormalization(),\n",
    "\n",
    "        layers.Dropout(rate=0.3),\n",
    "        layers.Dense(units=128, activation='relu'),\n",
    "        layers.BatchNormalization(),\n",
    "\n",
    "        layers.Dropout(rate=0.3),\n",
    "        layers.Dense(units=128, activation='relu'),\n",
    "        layers.BatchNormalization(),\n",
    "\n",
    "        layers.Dense(units=1)\n",
    "    ])\n",
    "\n",
    "    model_cv.compile(\n",
    "        optimizer = 'sgd',\n",
    "        loss = 'mean_absolute_error'\n",
    "    )\n",
    "\n",
    "    early_stopping_cv = EarlyStopping(\n",
    "        min_delta = 0.001,\n",
    "        patience = 20,\n",
    "        restore_best_weights = True\n",
    "    )\n",
    "\n",
    "    history_cv = model_cv.fit(\n",
    "        X_data[train], y_data[train],\n",
    "        validation_data = (X_test,y_test),\n",
    "        batch_size=256,\n",
    "        epochs=500,\n",
    "        callbacks=[early_stopping],\n",
    "        verbose=0\n",
    "    )\n",
    "\n",
    "    y_pred_tf_cv = model_cv.predict(X_data[test])\n",
    "\n",
    "    print(r2_score(y_data[test],y_pred_tf_cv))"
   ],
   "metadata": {
    "collapsed": false
   }
  },
  {
   "cell_type": "code",
   "execution_count": null,
   "outputs": [],
   "source": [],
   "metadata": {
    "collapsed": false
   }
  }
 ],
 "metadata": {
  "kernelspec": {
   "display_name": "Python 3",
   "language": "python",
   "name": "python3"
  },
  "language_info": {
   "codemirror_mode": {
    "name": "ipython",
    "version": 2
   },
   "file_extension": ".py",
   "mimetype": "text/x-python",
   "name": "python",
   "nbconvert_exporter": "python",
   "pygments_lexer": "ipython2",
   "version": "2.7.6"
  }
 },
 "nbformat": 4,
 "nbformat_minor": 0
}
