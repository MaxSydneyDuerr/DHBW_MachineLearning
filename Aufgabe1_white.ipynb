{
 "cells": [
  {
   "cell_type": "markdown",
   "source": [
    "---\n",
    "# Data Understanding"
   ],
   "metadata": {
    "collapsed": false
   }
  },
  {
   "cell_type": "code",
   "execution_count": 137,
   "metadata": {
    "collapsed": true
   },
   "outputs": [
    {
     "data": {
      "text/plain": "   fixed acidity  volatile acidity  citric acid  residual sugar  chlorides  \\\n0            7.0              0.27         0.36            20.7      0.045   \n1            6.3              0.30         0.34             1.6      0.049   \n2            8.1              0.28         0.40             6.9      0.050   \n3            7.2              0.23         0.32             8.5      0.058   \n4            7.2              0.23         0.32             8.5      0.058   \n\n   free sulfur dioxide  total sulfur dioxide  density    pH  sulphates  \\\n0                 45.0                 170.0   1.0010  3.00       0.45   \n1                 14.0                 132.0   0.9940  3.30       0.49   \n2                 30.0                  97.0   0.9951  3.26       0.44   \n3                 47.0                 186.0   0.9956  3.19       0.40   \n4                 47.0                 186.0   0.9956  3.19       0.40   \n\n   alcohol  quality  \n0      8.8        6  \n1      9.5        6  \n2     10.1        6  \n3      9.9        6  \n4      9.9        6  ",
      "text/html": "<div>\n<style scoped>\n    .dataframe tbody tr th:only-of-type {\n        vertical-align: middle;\n    }\n\n    .dataframe tbody tr th {\n        vertical-align: top;\n    }\n\n    .dataframe thead th {\n        text-align: right;\n    }\n</style>\n<table border=\"1\" class=\"dataframe\">\n  <thead>\n    <tr style=\"text-align: right;\">\n      <th></th>\n      <th>fixed acidity</th>\n      <th>volatile acidity</th>\n      <th>citric acid</th>\n      <th>residual sugar</th>\n      <th>chlorides</th>\n      <th>free sulfur dioxide</th>\n      <th>total sulfur dioxide</th>\n      <th>density</th>\n      <th>pH</th>\n      <th>sulphates</th>\n      <th>alcohol</th>\n      <th>quality</th>\n    </tr>\n  </thead>\n  <tbody>\n    <tr>\n      <th>0</th>\n      <td>7.0</td>\n      <td>0.27</td>\n      <td>0.36</td>\n      <td>20.7</td>\n      <td>0.045</td>\n      <td>45.0</td>\n      <td>170.0</td>\n      <td>1.0010</td>\n      <td>3.00</td>\n      <td>0.45</td>\n      <td>8.8</td>\n      <td>6</td>\n    </tr>\n    <tr>\n      <th>1</th>\n      <td>6.3</td>\n      <td>0.30</td>\n      <td>0.34</td>\n      <td>1.6</td>\n      <td>0.049</td>\n      <td>14.0</td>\n      <td>132.0</td>\n      <td>0.9940</td>\n      <td>3.30</td>\n      <td>0.49</td>\n      <td>9.5</td>\n      <td>6</td>\n    </tr>\n    <tr>\n      <th>2</th>\n      <td>8.1</td>\n      <td>0.28</td>\n      <td>0.40</td>\n      <td>6.9</td>\n      <td>0.050</td>\n      <td>30.0</td>\n      <td>97.0</td>\n      <td>0.9951</td>\n      <td>3.26</td>\n      <td>0.44</td>\n      <td>10.1</td>\n      <td>6</td>\n    </tr>\n    <tr>\n      <th>3</th>\n      <td>7.2</td>\n      <td>0.23</td>\n      <td>0.32</td>\n      <td>8.5</td>\n      <td>0.058</td>\n      <td>47.0</td>\n      <td>186.0</td>\n      <td>0.9956</td>\n      <td>3.19</td>\n      <td>0.40</td>\n      <td>9.9</td>\n      <td>6</td>\n    </tr>\n    <tr>\n      <th>4</th>\n      <td>7.2</td>\n      <td>0.23</td>\n      <td>0.32</td>\n      <td>8.5</td>\n      <td>0.058</td>\n      <td>47.0</td>\n      <td>186.0</td>\n      <td>0.9956</td>\n      <td>3.19</td>\n      <td>0.40</td>\n      <td>9.9</td>\n      <td>6</td>\n    </tr>\n  </tbody>\n</table>\n</div>"
     },
     "execution_count": 137,
     "metadata": {},
     "output_type": "execute_result"
    }
   ],
   "source": [
    "import pandas as pd\n",
    "\n",
    "data_wine_white = pd.read_csv('./data/winequality-white.csv',delimiter=';')\n",
    "\n",
    "data_wine_white.head()\n",
    "\n"
   ]
  },
  {
   "cell_type": "code",
   "execution_count": 138,
   "outputs": [
    {
     "data": {
      "text/plain": "       fixed acidity  volatile acidity  citric acid  residual sugar  \\\ncount    4898.000000       4898.000000  4898.000000     4898.000000   \nmean        6.854788          0.278241     0.334192        6.391415   \nstd         0.843868          0.100795     0.121020        5.072058   \nmin         3.800000          0.080000     0.000000        0.600000   \n25%         6.300000          0.210000     0.270000        1.700000   \n50%         6.800000          0.260000     0.320000        5.200000   \n75%         7.300000          0.320000     0.390000        9.900000   \nmax        14.200000          1.100000     1.660000       65.800000   \n\n         chlorides  free sulfur dioxide  total sulfur dioxide      density  \\\ncount  4898.000000          4898.000000           4898.000000  4898.000000   \nmean      0.045772            35.308085            138.360657     0.994027   \nstd       0.021848            17.007137             42.498065     0.002991   \nmin       0.009000             2.000000              9.000000     0.987110   \n25%       0.036000            23.000000            108.000000     0.991723   \n50%       0.043000            34.000000            134.000000     0.993740   \n75%       0.050000            46.000000            167.000000     0.996100   \nmax       0.346000           289.000000            440.000000     1.038980   \n\n                pH    sulphates      alcohol      quality  \ncount  4898.000000  4898.000000  4898.000000  4898.000000  \nmean      3.188267     0.489847    10.514267     5.877909  \nstd       0.151001     0.114126     1.230621     0.885639  \nmin       2.720000     0.220000     8.000000     3.000000  \n25%       3.090000     0.410000     9.500000     5.000000  \n50%       3.180000     0.470000    10.400000     6.000000  \n75%       3.280000     0.550000    11.400000     6.000000  \nmax       3.820000     1.080000    14.200000     9.000000  ",
      "text/html": "<div>\n<style scoped>\n    .dataframe tbody tr th:only-of-type {\n        vertical-align: middle;\n    }\n\n    .dataframe tbody tr th {\n        vertical-align: top;\n    }\n\n    .dataframe thead th {\n        text-align: right;\n    }\n</style>\n<table border=\"1\" class=\"dataframe\">\n  <thead>\n    <tr style=\"text-align: right;\">\n      <th></th>\n      <th>fixed acidity</th>\n      <th>volatile acidity</th>\n      <th>citric acid</th>\n      <th>residual sugar</th>\n      <th>chlorides</th>\n      <th>free sulfur dioxide</th>\n      <th>total sulfur dioxide</th>\n      <th>density</th>\n      <th>pH</th>\n      <th>sulphates</th>\n      <th>alcohol</th>\n      <th>quality</th>\n    </tr>\n  </thead>\n  <tbody>\n    <tr>\n      <th>count</th>\n      <td>4898.000000</td>\n      <td>4898.000000</td>\n      <td>4898.000000</td>\n      <td>4898.000000</td>\n      <td>4898.000000</td>\n      <td>4898.000000</td>\n      <td>4898.000000</td>\n      <td>4898.000000</td>\n      <td>4898.000000</td>\n      <td>4898.000000</td>\n      <td>4898.000000</td>\n      <td>4898.000000</td>\n    </tr>\n    <tr>\n      <th>mean</th>\n      <td>6.854788</td>\n      <td>0.278241</td>\n      <td>0.334192</td>\n      <td>6.391415</td>\n      <td>0.045772</td>\n      <td>35.308085</td>\n      <td>138.360657</td>\n      <td>0.994027</td>\n      <td>3.188267</td>\n      <td>0.489847</td>\n      <td>10.514267</td>\n      <td>5.877909</td>\n    </tr>\n    <tr>\n      <th>std</th>\n      <td>0.843868</td>\n      <td>0.100795</td>\n      <td>0.121020</td>\n      <td>5.072058</td>\n      <td>0.021848</td>\n      <td>17.007137</td>\n      <td>42.498065</td>\n      <td>0.002991</td>\n      <td>0.151001</td>\n      <td>0.114126</td>\n      <td>1.230621</td>\n      <td>0.885639</td>\n    </tr>\n    <tr>\n      <th>min</th>\n      <td>3.800000</td>\n      <td>0.080000</td>\n      <td>0.000000</td>\n      <td>0.600000</td>\n      <td>0.009000</td>\n      <td>2.000000</td>\n      <td>9.000000</td>\n      <td>0.987110</td>\n      <td>2.720000</td>\n      <td>0.220000</td>\n      <td>8.000000</td>\n      <td>3.000000</td>\n    </tr>\n    <tr>\n      <th>25%</th>\n      <td>6.300000</td>\n      <td>0.210000</td>\n      <td>0.270000</td>\n      <td>1.700000</td>\n      <td>0.036000</td>\n      <td>23.000000</td>\n      <td>108.000000</td>\n      <td>0.991723</td>\n      <td>3.090000</td>\n      <td>0.410000</td>\n      <td>9.500000</td>\n      <td>5.000000</td>\n    </tr>\n    <tr>\n      <th>50%</th>\n      <td>6.800000</td>\n      <td>0.260000</td>\n      <td>0.320000</td>\n      <td>5.200000</td>\n      <td>0.043000</td>\n      <td>34.000000</td>\n      <td>134.000000</td>\n      <td>0.993740</td>\n      <td>3.180000</td>\n      <td>0.470000</td>\n      <td>10.400000</td>\n      <td>6.000000</td>\n    </tr>\n    <tr>\n      <th>75%</th>\n      <td>7.300000</td>\n      <td>0.320000</td>\n      <td>0.390000</td>\n      <td>9.900000</td>\n      <td>0.050000</td>\n      <td>46.000000</td>\n      <td>167.000000</td>\n      <td>0.996100</td>\n      <td>3.280000</td>\n      <td>0.550000</td>\n      <td>11.400000</td>\n      <td>6.000000</td>\n    </tr>\n    <tr>\n      <th>max</th>\n      <td>14.200000</td>\n      <td>1.100000</td>\n      <td>1.660000</td>\n      <td>65.800000</td>\n      <td>0.346000</td>\n      <td>289.000000</td>\n      <td>440.000000</td>\n      <td>1.038980</td>\n      <td>3.820000</td>\n      <td>1.080000</td>\n      <td>14.200000</td>\n      <td>9.000000</td>\n    </tr>\n  </tbody>\n</table>\n</div>"
     },
     "execution_count": 138,
     "metadata": {},
     "output_type": "execute_result"
    }
   ],
   "source": [
    "data_wine_white.describe()"
   ],
   "metadata": {
    "collapsed": false
   }
  },
  {
   "cell_type": "code",
   "execution_count": 139,
   "outputs": [
    {
     "data": {
      "text/plain": "(4898, 12)"
     },
     "execution_count": 139,
     "metadata": {},
     "output_type": "execute_result"
    }
   ],
   "source": [
    "data_wine_white.shape"
   ],
   "metadata": {
    "collapsed": false
   }
  },
  {
   "cell_type": "code",
   "execution_count": 140,
   "outputs": [
    {
     "data": {
      "text/plain": "<AxesSubplot: xlabel='quality', ylabel='count'>"
     },
     "execution_count": 140,
     "metadata": {},
     "output_type": "execute_result"
    },
    {
     "data": {
      "text/plain": "<Figure size 640x480 with 1 Axes>",
      "image/png": "[encoded data removed]"
     },
     "metadata": {},
     "output_type": "display_data"
    }
   ],
   "source": [
    "import matplotlib.pyplot as plt\n",
    "import seaborn as sns\n",
    "sns.countplot(x = data_wine_white.quality)"
   ],
   "metadata": {
    "collapsed": false
   }
  },
  {
   "cell_type": "markdown",
   "source": [
    "# Standardize Values"
   ],
   "metadata": {
    "collapsed": false
   }
  },
  {
   "cell_type": "code",
   "execution_count": 141,
   "outputs": [
    {
     "data": {
      "text/plain": "                 0             1             2             3             4   \\\ncount  4.898000e+03  4.898000e+03  4.898000e+03  4.898000e+03  4.898000e+03   \nmean  -3.481630e-16  4.497106e-16  1.160543e-17 -1.066249e-16  3.133467e-16   \nstd    1.000102e+00  1.000102e+00  1.000102e+00  1.000102e+00  1.000102e+00   \nmin   -3.620351e+00 -1.966985e+00 -2.761743e+00 -1.141944e+00 -1.683274e+00   \n25%   -6.575011e-01 -6.771010e-01 -5.304757e-01 -9.250474e-01 -4.473347e-01   \n50%   -6.493106e-02 -1.809917e-01 -1.172780e-01 -2.349217e-01 -1.269060e-01   \n75%    5.276390e-01  4.143393e-01  4.611988e-01  6.918185e-01  1.935226e-01   \nmax    8.705106e+00  8.153643e+00  1.095642e+01  1.171411e+01  1.374308e+01   \n\n                 5             6             7             8             9   \\\ncount  4.898000e+03  4.898000e+03  4.898000e+03  4.898000e+03  4.898000e+03   \nmean  -1.015476e-17 -4.642174e-17  3.247201e-14 -1.183754e-15 -8.218098e-16   \nstd    1.000102e+00  1.000102e+00  1.000102e+00  1.000102e+00  1.000102e+00   \nmin   -1.958677e+00 -3.044230e+00 -2.313038e+00 -3.101408e+00 -2.364709e+00   \n25%   -7.237750e-01 -7.144739e-01 -7.707066e-01 -6.508363e-01 -6.997104e-01   \n50%   -7.692173e-02 -1.026189e-01 -9.609320e-02 -5.475133e-02 -1.739212e-01   \n75%    6.287364e-01  6.739664e-01  6.930457e-01  6.075653e-01  5.271310e-01   \nmax    1.491831e+01  7.098444e+00  1.503130e+01  4.184075e+00  5.171602e+00   \n\n                 10  \ncount  4.898000e+03  \nmean  -3.713739e-16  \nstd    1.000102e+00  \nmin   -2.043297e+00  \n25%   -8.242757e-01  \n50%   -9.286267e-02  \n75%    7.198184e-01  \nmax    2.995326e+00  ",
      "text/html": "<div>\n<style scoped>\n    .dataframe tbody tr th:only-of-type {\n        vertical-align: middle;\n    }\n\n    .dataframe tbody tr th {\n        vertical-align: top;\n    }\n\n    .dataframe thead th {\n        text-align: right;\n    }\n</style>\n<table border=\"1\" class=\"dataframe\">\n  <thead>\n    <tr style=\"text-align: right;\">\n      <th></th>\n      <th>0</th>\n      <th>1</th>\n      <th>2</th>\n      <th>3</th>\n      <th>4</th>\n      <th>5</th>\n      <th>6</th>\n      <th>7</th>\n      <th>8</th>\n      <th>9</th>\n      <th>10</th>\n    </tr>\n  </thead>\n  <tbody>\n    <tr>\n      <th>count</th>\n      <td>4.898000e+03</td>\n      <td>4.898000e+03</td>\n      <td>4.898000e+03</td>\n      <td>4.898000e+03</td>\n      <td>4.898000e+03</td>\n      <td>4.898000e+03</td>\n      <td>4.898000e+03</td>\n      <td>4.898000e+03</td>\n      <td>4.898000e+03</td>\n      <td>4.898000e+03</td>\n      <td>4.898000e+03</td>\n    </tr>\n    <tr>\n      <th>mean</th>\n      <td>-3.481630e-16</td>\n      <td>4.497106e-16</td>\n      <td>1.160543e-17</td>\n      <td>-1.066249e-16</td>\n      <td>3.133467e-16</td>\n      <td>-1.015476e-17</td>\n      <td>-4.642174e-17</td>\n      <td>3.247201e-14</td>\n      <td>-1.183754e-15</td>\n      <td>-8.218098e-16</td>\n      <td>-3.713739e-16</td>\n    </tr>\n    <tr>\n      <th>std</th>\n      <td>1.000102e+00</td>\n      <td>1.000102e+00</td>\n      <td>1.000102e+00</td>\n      <td>1.000102e+00</td>\n      <td>1.000102e+00</td>\n      <td>1.000102e+00</td>\n      <td>1.000102e+00</td>\n      <td>1.000102e+00</td>\n      <td>1.000102e+00</td>\n      <td>1.000102e+00</td>\n      <td>1.000102e+00</td>\n    </tr>\n    <tr>\n      <th>min</th>\n      <td>-3.620351e+00</td>\n      <td>-1.966985e+00</td>\n      <td>-2.761743e+00</td>\n      <td>-1.141944e+00</td>\n      <td>-1.683274e+00</td>\n      <td>-1.958677e+00</td>\n      <td>-3.044230e+00</td>\n      <td>-2.313038e+00</td>\n      <td>-3.101408e+00</td>\n      <td>-2.364709e+00</td>\n      <td>-2.043297e+00</td>\n    </tr>\n    <tr>\n      <th>25%</th>\n      <td>-6.575011e-01</td>\n      <td>-6.771010e-01</td>\n      <td>-5.304757e-01</td>\n      <td>-9.250474e-01</td>\n      <td>-4.473347e-01</td>\n      <td>-7.237750e-01</td>\n      <td>-7.144739e-01</td>\n      <td>-7.707066e-01</td>\n      <td>-6.508363e-01</td>\n      <td>-6.997104e-01</td>\n      <td>-8.242757e-01</td>\n    </tr>\n    <tr>\n      <th>50%</th>\n      <td>-6.493106e-02</td>\n      <td>-1.809917e-01</td>\n      <td>-1.172780e-01</td>\n      <td>-2.349217e-01</td>\n      <td>-1.269060e-01</td>\n      <td>-7.692173e-02</td>\n      <td>-1.026189e-01</td>\n      <td>-9.609320e-02</td>\n      <td>-5.475133e-02</td>\n      <td>-1.739212e-01</td>\n      <td>-9.286267e-02</td>\n    </tr>\n    <tr>\n      <th>75%</th>\n      <td>5.276390e-01</td>\n      <td>4.143393e-01</td>\n      <td>4.611988e-01</td>\n      <td>6.918185e-01</td>\n      <td>1.935226e-01</td>\n      <td>6.287364e-01</td>\n      <td>6.739664e-01</td>\n      <td>6.930457e-01</td>\n      <td>6.075653e-01</td>\n      <td>5.271310e-01</td>\n      <td>7.198184e-01</td>\n    </tr>\n    <tr>\n      <th>max</th>\n      <td>8.705106e+00</td>\n      <td>8.153643e+00</td>\n      <td>1.095642e+01</td>\n      <td>1.171411e+01</td>\n      <td>1.374308e+01</td>\n      <td>1.491831e+01</td>\n      <td>7.098444e+00</td>\n      <td>1.503130e+01</td>\n      <td>4.184075e+00</td>\n      <td>5.171602e+00</td>\n      <td>2.995326e+00</td>\n    </tr>\n  </tbody>\n</table>\n</div>"
     },
     "execution_count": 141,
     "metadata": {},
     "output_type": "execute_result"
    }
   ],
   "source": [
    "from sklearn.preprocessing import StandardScaler\n",
    "scalerX = StandardScaler()\n",
    "X_scaled = scalerX.fit_transform(data_wine_white[data_wine_white.columns[~data_wine_white.columns.isin(['quality'])]])\n",
    "\n",
    "scalerY = StandardScaler()\n",
    "y_scaled = scalerY.fit_transform(data_wine_white[data_wine_white.columns[data_wine_white.columns.isin(['quality'])]])\n",
    "pd.DataFrame(X_scaled).describe()"
   ],
   "metadata": {
    "collapsed": false
   }
  },
  {
   "cell_type": "markdown",
   "source": [
    "---\n",
    "# Principle Component Analysis"
   ],
   "metadata": {
    "collapsed": false
   }
  },
  {
   "cell_type": "code",
   "execution_count": 142,
   "outputs": [
    {
     "name": "stdout",
     "output_type": "stream",
     "text": [
      "Shape before PCA:  (4898, 11)\n",
      "Shape after PCA:  (4898, 8)\n",
      "                 0             1            2            3             4  \\\n",
      "count  4898.000000  4.898000e+03  4898.000000  4898.000000  4.898000e+03   \n",
      "mean      0.000000 -3.481630e-17     0.000000     0.000000  1.160543e-17   \n",
      "std       1.795247  1.255214e+00     1.105405     1.009322  9.866779e-01   \n",
      "min      -5.563232 -5.577955e+00    -6.722120    -4.176287 -3.744803e+00   \n",
      "25%      -1.389891 -7.918585e-01    -0.639892    -0.608898 -6.259418e-01   \n",
      "50%      -0.248418  3.193702e-02     0.048870    -0.107732 -2.809689e-02   \n",
      "75%       1.425708  8.357939e-01     0.677447     0.441809  5.720003e-01   \n",
      "max      12.704153  8.074636e+00     6.796970     9.586264  5.864496e+00   \n",
      "\n",
      "                  5             6             7       quality  \n",
      "count  4.898000e+03  4.898000e+03  4.898000e+03  4.898000e+03  \n",
      "mean   5.802717e-18  1.160543e-17 -4.642174e-17  2.901359e-17  \n",
      "std    9.689857e-01  8.524942e-01  7.742615e-01  1.000102e+00  \n",
      "min   -8.417561e+00 -3.210194e+00 -2.889495e+00 -3.249862e+00  \n",
      "25%   -6.183231e-01 -5.533318e-01 -5.031812e-01 -9.913739e-01  \n",
      "50%   -5.270219e-02 -3.934655e-02 -1.764626e-02  1.378701e-01  \n",
      "75%    5.693733e-01  4.828612e-01  4.983813e-01  1.378701e-01  \n",
      "max    8.678817e+00  7.599587e+00  5.088112e+00  3.525602e+00  \n"
     ]
    }
   ],
   "source": [
    "from sklearn.decomposition import PCA\n",
    "\n",
    "pca = PCA(n_components=8)\n",
    "\n",
    "pca_features = pca.fit_transform(X_scaled)\n",
    "\n",
    "print('Shape before PCA: ', X_scaled.shape)\n",
    "print('Shape after PCA: ', pca_features.shape)\n",
    "\n",
    "data_scaled_pca = pd.DataFrame(\n",
    "    data=pca_features\n",
    ")\n",
    "\n",
    "data_scaled_pca['quality'] = y_scaled\n",
    "\n",
    "print(data_scaled_pca.describe())"
   ],
   "metadata": {
    "collapsed": false
   }
  },
  {
   "cell_type": "code",
   "execution_count": 143,
   "outputs": [
    {
     "data": {
      "text/plain": "array([3.2229119 , 1.57556161, 1.22192081, 1.01873034, 0.97353334,\n       0.93893321, 0.7267464 , 0.59948087])"
     },
     "execution_count": 143,
     "metadata": {},
     "output_type": "execute_result"
    }
   ],
   "source": [
    "pca.explained_variance_"
   ],
   "metadata": {
    "collapsed": false
   }
  },
  {
   "cell_type": "markdown",
   "source": [
    "---\n",
    "# Split Data"
   ],
   "metadata": {
    "collapsed": false
   }
  },
  {
   "cell_type": "code",
   "execution_count": 144,
   "outputs": [
    {
     "data": {
      "text/plain": "             0         1         2         3         4         5         6  \\\n1512  0.161880 -2.016487  0.102753 -1.224287 -0.383408  0.486766  0.830515   \n3523  2.572685  1.758248 -0.509025 -2.435571 -0.505450  2.686253 -1.589367   \n3849  0.008623 -1.327755  0.455586  1.207017  0.547875 -1.795172  0.404929   \n1777 -0.187389  1.559758  1.444551  0.765608 -0.230093 -1.091966 -1.150652   \n4306  0.429558  0.814969 -0.580905 -1.093884 -0.811099  0.599244  0.224970   \n\n             7  \n1512 -0.452259  \n3523 -0.332890  \n3849  0.388612  \n1777  0.369345  \n4306 -0.605749  ",
      "text/html": "<div>\n<style scoped>\n    .dataframe tbody tr th:only-of-type {\n        vertical-align: middle;\n    }\n\n    .dataframe tbody tr th {\n        vertical-align: top;\n    }\n\n    .dataframe thead th {\n        text-align: right;\n    }\n</style>\n<table border=\"1\" class=\"dataframe\">\n  <thead>\n    <tr style=\"text-align: right;\">\n      <th></th>\n      <th>0</th>\n      <th>1</th>\n      <th>2</th>\n      <th>3</th>\n      <th>4</th>\n      <th>5</th>\n      <th>6</th>\n      <th>7</th>\n    </tr>\n  </thead>\n  <tbody>\n    <tr>\n      <th>1512</th>\n      <td>0.161880</td>\n      <td>-2.016487</td>\n      <td>0.102753</td>\n      <td>-1.224287</td>\n      <td>-0.383408</td>\n      <td>0.486766</td>\n      <td>0.830515</td>\n      <td>-0.452259</td>\n    </tr>\n    <tr>\n      <th>3523</th>\n      <td>2.572685</td>\n      <td>1.758248</td>\n      <td>-0.509025</td>\n      <td>-2.435571</td>\n      <td>-0.505450</td>\n      <td>2.686253</td>\n      <td>-1.589367</td>\n      <td>-0.332890</td>\n    </tr>\n    <tr>\n      <th>3849</th>\n      <td>0.008623</td>\n      <td>-1.327755</td>\n      <td>0.455586</td>\n      <td>1.207017</td>\n      <td>0.547875</td>\n      <td>-1.795172</td>\n      <td>0.404929</td>\n      <td>0.388612</td>\n    </tr>\n    <tr>\n      <th>1777</th>\n      <td>-0.187389</td>\n      <td>1.559758</td>\n      <td>1.444551</td>\n      <td>0.765608</td>\n      <td>-0.230093</td>\n      <td>-1.091966</td>\n      <td>-1.150652</td>\n      <td>0.369345</td>\n    </tr>\n    <tr>\n      <th>4306</th>\n      <td>0.429558</td>\n      <td>0.814969</td>\n      <td>-0.580905</td>\n      <td>-1.093884</td>\n      <td>-0.811099</td>\n      <td>0.599244</td>\n      <td>0.224970</td>\n      <td>-0.605749</td>\n    </tr>\n  </tbody>\n</table>\n</div>"
     },
     "execution_count": 144,
     "metadata": {},
     "output_type": "execute_result"
    }
   ],
   "source": [
    "from sklearn.model_selection import train_test_split\n",
    "\n",
    "X_train, X_test, y_train, y_test = train_test_split(data_scaled_pca[data_scaled_pca.columns[~data_scaled_pca.columns.isin(['quality'])]], data_scaled_pca.quality, test_size=0.25)\n",
    "#X_train, X_test, y_train, y_test = train_test_split(data_wine_white[data_wine_white.columns[~data_wine_white.columns.isin(['quality'])]], data_wine_white.quality, test_size=0.25)\n",
    "\n",
    "X_train.head()"
   ],
   "metadata": {
    "collapsed": false
   }
  },
  {
   "cell_type": "markdown",
   "source": [
    "---\n",
    "# Nearest Neighbor Regression"
   ],
   "metadata": {
    "collapsed": false
   }
  },
  {
   "cell_type": "markdown",
   "source": [
    "### Model Training"
   ],
   "metadata": {
    "collapsed": false
   }
  },
  {
   "cell_type": "code",
   "execution_count": 145,
   "outputs": [],
   "source": [
    "from sklearn.neighbors import KNeighborsRegressor\n",
    "from sklearn.metrics import r2_score\n",
    "neigh = KNeighborsRegressor()\n",
    "neigh.fit(X_train, y_train)\n",
    "\n",
    "y_pred_neigh = neigh.predict(X_test)"
   ],
   "metadata": {
    "collapsed": false
   }
  },
  {
   "cell_type": "markdown",
   "source": [
    "### R2 Score for Standadized Values"
   ],
   "metadata": {
    "collapsed": false
   }
  },
  {
   "cell_type": "code",
   "execution_count": 146,
   "outputs": [
    {
     "data": {
      "text/plain": "0.3249766203870226"
     },
     "execution_count": 146,
     "metadata": {},
     "output_type": "execute_result"
    }
   ],
   "source": [
    "r2_score(y_test,y_pred_neigh)"
   ],
   "metadata": {
    "collapsed": false
   }
  },
  {
   "cell_type": "markdown",
   "source": [
    "### Compare original Values with predicted, rounded Values"
   ],
   "metadata": {
    "collapsed": false
   }
  },
  {
   "cell_type": "code",
   "execution_count": 147,
   "outputs": [
    {
     "data": {
      "text/plain": "array([[7.],\n       [7.],\n       [6.],\n       ...,\n       [7.],\n       [8.],\n       [6.]])"
     },
     "execution_count": 147,
     "metadata": {},
     "output_type": "execute_result"
    }
   ],
   "source": [
    "inscaled_y_test = scalerY.inverse_transform(pd.DataFrame(y_test)).round()\n",
    "inscaled_y_test"
   ],
   "metadata": {
    "collapsed": false
   }
  },
  {
   "cell_type": "code",
   "execution_count": 148,
   "outputs": [
    {
     "data": {
      "text/plain": "array([[6.],\n       [6.],\n       [6.],\n       ...,\n       [6.],\n       [7.],\n       [6.]])"
     },
     "execution_count": 148,
     "metadata": {},
     "output_type": "execute_result"
    }
   ],
   "source": [
    "inscaled_y_pred_neigh = scalerY.inverse_transform(pd.DataFrame(y_pred_neigh)).round()\n",
    "inscaled_y_pred_neigh"
   ],
   "metadata": {
    "collapsed": false
   }
  },
  {
   "cell_type": "markdown",
   "source": [
    "### R2 Score for original Values"
   ],
   "metadata": {
    "collapsed": false
   }
  },
  {
   "cell_type": "code",
   "execution_count": 149,
   "outputs": [
    {
     "data": {
      "text/plain": "0.2273853478836223"
     },
     "execution_count": 149,
     "metadata": {},
     "output_type": "execute_result"
    }
   ],
   "source": [
    "r2_score(inscaled_y_test,inscaled_y_pred_neigh)"
   ],
   "metadata": {
    "collapsed": false
   }
  },
  {
   "cell_type": "markdown",
   "source": [
    "### Show Evaluation as Confusion Matrix"
   ],
   "metadata": {
    "collapsed": false
   }
  },
  {
   "cell_type": "code",
   "execution_count": 150,
   "outputs": [
    {
     "data": {
      "text/plain": "<Figure size 640x480 with 2 Axes>",
      "image/png": "[encoded data removed]"
     },
     "metadata": {},
     "output_type": "display_data"
    }
   ],
   "source": [
    "from sklearn.metrics import ConfusionMatrixDisplay\n",
    "\n",
    "ConfusionMatrixDisplay.from_predictions(inscaled_y_test,inscaled_y_pred_neigh,cmap='Blues')\n",
    "\n",
    "plt.show()"
   ],
   "metadata": {
    "collapsed": false
   }
  },
  {
   "cell_type": "markdown",
   "source": [
    "## Train Model with 3-fold Cross Validation"
   ],
   "metadata": {
    "collapsed": false
   }
  },
  {
   "cell_type": "code",
   "execution_count": 151,
   "outputs": [
    {
     "data": {
      "text/plain": "array([0.30981613, 0.33496959, 0.28255982])"
     },
     "execution_count": 151,
     "metadata": {},
     "output_type": "execute_result"
    }
   ],
   "source": [
    "from sklearn.model_selection import cross_val_score\n",
    "\n",
    "neigh_cv = KNeighborsRegressor()\n",
    "scores_neigh = cross_val_score(neigh_cv, X_train, y_train, cv=3)\n",
    "scores_neigh"
   ],
   "metadata": {
    "collapsed": false
   }
  },
  {
   "cell_type": "markdown",
   "source": [
    "## Evaluate Model"
   ],
   "metadata": {
    "collapsed": false
   }
  },
  {
   "cell_type": "code",
   "execution_count": 152,
   "outputs": [
    {
     "name": "stdout",
     "output_type": "stream",
     "text": [
      "0.31 accuracy with a standard deviation of 0.02\n"
     ]
    }
   ],
   "source": [
    "print(\"%0.2f accuracy with a standard deviation of %0.2f\" % (scores_neigh.mean(), scores_neigh.std()))"
   ],
   "metadata": {
    "collapsed": false
   }
  },
  {
   "cell_type": "markdown",
   "source": [
    "---\n",
    "# Support Vector Regession"
   ],
   "metadata": {
    "collapsed": false
   }
  },
  {
   "cell_type": "markdown",
   "source": [
    "### Model Training"
   ],
   "metadata": {
    "collapsed": false
   }
  },
  {
   "cell_type": "code",
   "execution_count": 153,
   "outputs": [],
   "source": [
    "from sklearn.svm import SVR\n",
    "from sklearn.metrics import r2_score\n",
    "svr = SVR()\n",
    "svr.fit(X_train, y_train)\n",
    "\n",
    "y_pred_svr = svr.predict(X_test)"
   ],
   "metadata": {
    "collapsed": false
   }
  },
  {
   "cell_type": "markdown",
   "source": [
    "### R2 Score for Standadized Values"
   ],
   "metadata": {
    "collapsed": false
   }
  },
  {
   "cell_type": "code",
   "execution_count": 154,
   "outputs": [
    {
     "data": {
      "text/plain": "0.35371313758331957"
     },
     "execution_count": 154,
     "metadata": {},
     "output_type": "execute_result"
    }
   ],
   "source": [
    "r2_score(y_test,y_pred_svr)"
   ],
   "metadata": {
    "collapsed": false
   }
  },
  {
   "cell_type": "markdown",
   "source": [
    "### Compare original Values with predicted, rounded Values"
   ],
   "metadata": {
    "collapsed": false
   }
  },
  {
   "cell_type": "code",
   "execution_count": 155,
   "outputs": [
    {
     "data": {
      "text/plain": "array([[7.],\n       [7.],\n       [6.],\n       ...,\n       [7.],\n       [8.],\n       [6.]])"
     },
     "execution_count": 155,
     "metadata": {},
     "output_type": "execute_result"
    }
   ],
   "source": [
    "inscaled_y_test"
   ],
   "metadata": {
    "collapsed": false
   }
  },
  {
   "cell_type": "code",
   "execution_count": 156,
   "outputs": [
    {
     "data": {
      "text/plain": "array([[6.],\n       [6.],\n       [6.],\n       ...,\n       [6.],\n       [6.],\n       [6.]])"
     },
     "execution_count": 156,
     "metadata": {},
     "output_type": "execute_result"
    }
   ],
   "source": [
    "inscaled_y_pred_svr = scalerY.inverse_transform(pd.DataFrame(y_pred_svr)).round()\n",
    "inscaled_y_pred_svr"
   ],
   "metadata": {
    "collapsed": false
   }
  },
  {
   "cell_type": "markdown",
   "source": [
    "### R2 Score for original Values"
   ],
   "metadata": {
    "collapsed": false
   }
  },
  {
   "cell_type": "code",
   "execution_count": 157,
   "outputs": [
    {
     "data": {
      "text/plain": "0.26120004751205794"
     },
     "execution_count": 157,
     "metadata": {},
     "output_type": "execute_result"
    }
   ],
   "source": [
    "r2_score(inscaled_y_test,inscaled_y_pred_svr)"
   ],
   "metadata": {
    "collapsed": false
   }
  },
  {
   "cell_type": "markdown",
   "source": [
    "### Show Evaluation as Confusion Matrix"
   ],
   "metadata": {
    "collapsed": false
   }
  },
  {
   "cell_type": "code",
   "execution_count": 158,
   "outputs": [
    {
     "data": {
      "text/plain": "<Figure size 640x480 with 2 Axes>",
      "image/png": "[encoded data removed]"
     },
     "metadata": {},
     "output_type": "display_data"
    }
   ],
   "source": [
    "from sklearn.metrics import ConfusionMatrixDisplay\n",
    "\n",
    "ConfusionMatrixDisplay.from_predictions(inscaled_y_test,inscaled_y_pred_svr,cmap='Blues')\n",
    "\n",
    "plt.show()"
   ],
   "metadata": {
    "collapsed": false
   }
  },
  {
   "cell_type": "markdown",
   "source": [
    "## Train Model with 3-fold Cross Validation"
   ],
   "metadata": {
    "collapsed": false
   }
  },
  {
   "cell_type": "code",
   "execution_count": 159,
   "outputs": [
    {
     "data": {
      "text/plain": "array([0.30981613, 0.33496959, 0.28255982])"
     },
     "execution_count": 159,
     "metadata": {},
     "output_type": "execute_result"
    }
   ],
   "source": [
    "svr_cv = SVR()\n",
    "\n",
    "scores_svr = cross_val_score(neigh_cv, X_train, y_train, cv=3)\n",
    "scores_svr"
   ],
   "metadata": {
    "collapsed": false
   }
  },
  {
   "cell_type": "markdown",
   "source": [
    "## Evaluate Model"
   ],
   "metadata": {
    "collapsed": false
   }
  },
  {
   "cell_type": "code",
   "execution_count": 160,
   "outputs": [
    {
     "name": "stdout",
     "output_type": "stream",
     "text": [
      "0.31 accuracy with a standard deviation of 0.02\n"
     ]
    }
   ],
   "source": [
    "print(\"%0.2f accuracy with a standard deviation of %0.2f\" % (scores_svr.mean(), scores_svr.std()))"
   ],
   "metadata": {
    "collapsed": false
   }
  }
 ],
 "metadata": {
  "kernelspec": {
   "display_name": "Python 3",
   "language": "python",
   "name": "python3"
  },
  "language_info": {
   "codemirror_mode": {
    "name": "ipython",
    "version": 2
   },
   "file_extension": ".py",
   "mimetype": "text/x-python",
   "name": "python",
   "nbconvert_exporter": "python",
   "pygments_lexer": "ipython2",
   "version": "2.7.6"
  }
 },
 "nbformat": 4,
 "nbformat_minor": 0
}
