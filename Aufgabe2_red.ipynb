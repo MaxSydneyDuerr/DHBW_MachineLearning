{
 "cells": [
  {
   "cell_type": "markdown",
   "source": [
    "---\n",
    "# Data Understanding"
   ],
   "metadata": {
    "collapsed": false
   }
  },
  {
   "cell_type": "code",
   "execution_count": 369,
   "metadata": {
    "collapsed": true
   },
   "outputs": [
    {
     "data": {
      "text/plain": "   fixed acidity  volatile acidity  citric acid  residual sugar  chlorides  \\\n0            7.4              0.70         0.00             1.9      0.076   \n1            7.8              0.88         0.00             2.6      0.098   \n2            7.8              0.76         0.04             2.3      0.092   \n3           11.2              0.28         0.56             1.9      0.075   \n4            7.4              0.70         0.00             1.9      0.076   \n\n   free sulfur dioxide  total sulfur dioxide  density    pH  sulphates  \\\n0                 11.0                  34.0   0.9978  3.51       0.56   \n1                 25.0                  67.0   0.9968  3.20       0.68   \n2                 15.0                  54.0   0.9970  3.26       0.65   \n3                 17.0                  60.0   0.9980  3.16       0.58   \n4                 11.0                  34.0   0.9978  3.51       0.56   \n\n   alcohol  quality  \n0      9.4        5  \n1      9.8        5  \n2      9.8        5  \n3      9.8        6  \n4      9.4        5  ",
      "text/html": "<div>\n<style scoped>\n    .dataframe tbody tr th:only-of-type {\n        vertical-align: middle;\n    }\n\n    .dataframe tbody tr th {\n        vertical-align: top;\n    }\n\n    .dataframe thead th {\n        text-align: right;\n    }\n</style>\n<table border=\"1\" class=\"dataframe\">\n  <thead>\n    <tr style=\"text-align: right;\">\n      <th></th>\n      <th>fixed acidity</th>\n      <th>volatile acidity</th>\n      <th>citric acid</th>\n      <th>residual sugar</th>\n      <th>chlorides</th>\n      <th>free sulfur dioxide</th>\n      <th>total sulfur dioxide</th>\n      <th>density</th>\n      <th>pH</th>\n      <th>sulphates</th>\n      <th>alcohol</th>\n      <th>quality</th>\n    </tr>\n  </thead>\n  <tbody>\n    <tr>\n      <th>0</th>\n      <td>7.4</td>\n      <td>0.70</td>\n      <td>0.00</td>\n      <td>1.9</td>\n      <td>0.076</td>\n      <td>11.0</td>\n      <td>34.0</td>\n      <td>0.9978</td>\n      <td>3.51</td>\n      <td>0.56</td>\n      <td>9.4</td>\n      <td>5</td>\n    </tr>\n    <tr>\n      <th>1</th>\n      <td>7.8</td>\n      <td>0.88</td>\n      <td>0.00</td>\n      <td>2.6</td>\n      <td>0.098</td>\n      <td>25.0</td>\n      <td>67.0</td>\n      <td>0.9968</td>\n      <td>3.20</td>\n      <td>0.68</td>\n      <td>9.8</td>\n      <td>5</td>\n    </tr>\n    <tr>\n      <th>2</th>\n      <td>7.8</td>\n      <td>0.76</td>\n      <td>0.04</td>\n      <td>2.3</td>\n      <td>0.092</td>\n      <td>15.0</td>\n      <td>54.0</td>\n      <td>0.9970</td>\n      <td>3.26</td>\n      <td>0.65</td>\n      <td>9.8</td>\n      <td>5</td>\n    </tr>\n    <tr>\n      <th>3</th>\n      <td>11.2</td>\n      <td>0.28</td>\n      <td>0.56</td>\n      <td>1.9</td>\n      <td>0.075</td>\n      <td>17.0</td>\n      <td>60.0</td>\n      <td>0.9980</td>\n      <td>3.16</td>\n      <td>0.58</td>\n      <td>9.8</td>\n      <td>6</td>\n    </tr>\n    <tr>\n      <th>4</th>\n      <td>7.4</td>\n      <td>0.70</td>\n      <td>0.00</td>\n      <td>1.9</td>\n      <td>0.076</td>\n      <td>11.0</td>\n      <td>34.0</td>\n      <td>0.9978</td>\n      <td>3.51</td>\n      <td>0.56</td>\n      <td>9.4</td>\n      <td>5</td>\n    </tr>\n  </tbody>\n</table>\n</div>"
     },
     "execution_count": 369,
     "metadata": {},
     "output_type": "execute_result"
    }
   ],
   "source": [
    "import pandas as pd\n",
    "\n",
    "data_wine_red = pd.read_csv('./data/winequality-red.csv',delimiter=';')\n",
    "\n",
    "data_wine_red.head()\n",
    "\n"
   ]
  },
  {
   "cell_type": "code",
   "execution_count": 370,
   "outputs": [
    {
     "data": {
      "text/plain": "       fixed acidity  volatile acidity  citric acid  residual sugar  \\\ncount    1599.000000       1599.000000  1599.000000     1599.000000   \nmean        8.319637          0.527821     0.270976        2.538806   \nstd         1.741096          0.179060     0.194801        1.409928   \nmin         4.600000          0.120000     0.000000        0.900000   \n25%         7.100000          0.390000     0.090000        1.900000   \n50%         7.900000          0.520000     0.260000        2.200000   \n75%         9.200000          0.640000     0.420000        2.600000   \nmax        15.900000          1.580000     1.000000       15.500000   \n\n         chlorides  free sulfur dioxide  total sulfur dioxide      density  \\\ncount  1599.000000          1599.000000           1599.000000  1599.000000   \nmean      0.087467            15.874922             46.467792     0.996747   \nstd       0.047065            10.460157             32.895324     0.001887   \nmin       0.012000             1.000000              6.000000     0.990070   \n25%       0.070000             7.000000             22.000000     0.995600   \n50%       0.079000            14.000000             38.000000     0.996750   \n75%       0.090000            21.000000             62.000000     0.997835   \nmax       0.611000            72.000000            289.000000     1.003690   \n\n                pH    sulphates      alcohol      quality  \ncount  1599.000000  1599.000000  1599.000000  1599.000000  \nmean      3.311113     0.658149    10.422983     5.636023  \nstd       0.154386     0.169507     1.065668     0.807569  \nmin       2.740000     0.330000     8.400000     3.000000  \n25%       3.210000     0.550000     9.500000     5.000000  \n50%       3.310000     0.620000    10.200000     6.000000  \n75%       3.400000     0.730000    11.100000     6.000000  \nmax       4.010000     2.000000    14.900000     8.000000  ",
      "text/html": "<div>\n<style scoped>\n    .dataframe tbody tr th:only-of-type {\n        vertical-align: middle;\n    }\n\n    .dataframe tbody tr th {\n        vertical-align: top;\n    }\n\n    .dataframe thead th {\n        text-align: right;\n    }\n</style>\n<table border=\"1\" class=\"dataframe\">\n  <thead>\n    <tr style=\"text-align: right;\">\n      <th></th>\n      <th>fixed acidity</th>\n      <th>volatile acidity</th>\n      <th>citric acid</th>\n      <th>residual sugar</th>\n      <th>chlorides</th>\n      <th>free sulfur dioxide</th>\n      <th>total sulfur dioxide</th>\n      <th>density</th>\n      <th>pH</th>\n      <th>sulphates</th>\n      <th>alcohol</th>\n      <th>quality</th>\n    </tr>\n  </thead>\n  <tbody>\n    <tr>\n      <th>count</th>\n      <td>1599.000000</td>\n      <td>1599.000000</td>\n      <td>1599.000000</td>\n      <td>1599.000000</td>\n      <td>1599.000000</td>\n      <td>1599.000000</td>\n      <td>1599.000000</td>\n      <td>1599.000000</td>\n      <td>1599.000000</td>\n      <td>1599.000000</td>\n      <td>1599.000000</td>\n      <td>1599.000000</td>\n    </tr>\n    <tr>\n      <th>mean</th>\n      <td>8.319637</td>\n      <td>0.527821</td>\n      <td>0.270976</td>\n      <td>2.538806</td>\n      <td>0.087467</td>\n      <td>15.874922</td>\n      <td>46.467792</td>\n      <td>0.996747</td>\n      <td>3.311113</td>\n      <td>0.658149</td>\n      <td>10.422983</td>\n      <td>5.636023</td>\n    </tr>\n    <tr>\n      <th>std</th>\n      <td>1.741096</td>\n      <td>0.179060</td>\n      <td>0.194801</td>\n      <td>1.409928</td>\n      <td>0.047065</td>\n      <td>10.460157</td>\n      <td>32.895324</td>\n      <td>0.001887</td>\n      <td>0.154386</td>\n      <td>0.169507</td>\n      <td>1.065668</td>\n      <td>0.807569</td>\n    </tr>\n    <tr>\n      <th>min</th>\n      <td>4.600000</td>\n      <td>0.120000</td>\n      <td>0.000000</td>\n      <td>0.900000</td>\n      <td>0.012000</td>\n      <td>1.000000</td>\n      <td>6.000000</td>\n      <td>0.990070</td>\n      <td>2.740000</td>\n      <td>0.330000</td>\n      <td>8.400000</td>\n      <td>3.000000</td>\n    </tr>\n    <tr>\n      <th>25%</th>\n      <td>7.100000</td>\n      <td>0.390000</td>\n      <td>0.090000</td>\n      <td>1.900000</td>\n      <td>0.070000</td>\n      <td>7.000000</td>\n      <td>22.000000</td>\n      <td>0.995600</td>\n      <td>3.210000</td>\n      <td>0.550000</td>\n      <td>9.500000</td>\n      <td>5.000000</td>\n    </tr>\n    <tr>\n      <th>50%</th>\n      <td>7.900000</td>\n      <td>0.520000</td>\n      <td>0.260000</td>\n      <td>2.200000</td>\n      <td>0.079000</td>\n      <td>14.000000</td>\n      <td>38.000000</td>\n      <td>0.996750</td>\n      <td>3.310000</td>\n      <td>0.620000</td>\n      <td>10.200000</td>\n      <td>6.000000</td>\n    </tr>\n    <tr>\n      <th>75%</th>\n      <td>9.200000</td>\n      <td>0.640000</td>\n      <td>0.420000</td>\n      <td>2.600000</td>\n      <td>0.090000</td>\n      <td>21.000000</td>\n      <td>62.000000</td>\n      <td>0.997835</td>\n      <td>3.400000</td>\n      <td>0.730000</td>\n      <td>11.100000</td>\n      <td>6.000000</td>\n    </tr>\n    <tr>\n      <th>max</th>\n      <td>15.900000</td>\n      <td>1.580000</td>\n      <td>1.000000</td>\n      <td>15.500000</td>\n      <td>0.611000</td>\n      <td>72.000000</td>\n      <td>289.000000</td>\n      <td>1.003690</td>\n      <td>4.010000</td>\n      <td>2.000000</td>\n      <td>14.900000</td>\n      <td>8.000000</td>\n    </tr>\n  </tbody>\n</table>\n</div>"
     },
     "execution_count": 370,
     "metadata": {},
     "output_type": "execute_result"
    }
   ],
   "source": [
    "data_wine_red.describe()"
   ],
   "metadata": {
    "collapsed": false
   }
  },
  {
   "cell_type": "code",
   "execution_count": 371,
   "outputs": [
    {
     "data": {
      "text/plain": "(1599, 12)"
     },
     "execution_count": 371,
     "metadata": {},
     "output_type": "execute_result"
    }
   ],
   "source": [
    "data_wine_red.shape"
   ],
   "metadata": {
    "collapsed": false
   }
  },
  {
   "cell_type": "code",
   "execution_count": 372,
   "outputs": [
    {
     "data": {
      "text/plain": "<AxesSubplot: xlabel='quality', ylabel='count'>"
     },
     "execution_count": 372,
     "metadata": {},
     "output_type": "execute_result"
    },
    {
     "data": {
      "text/plain": "<Figure size 640x480 with 1 Axes>",
      "image/png": "[encoded data removed]"
     },
     "metadata": {},
     "output_type": "display_data"
    }
   ],
   "source": [
    "import matplotlib.pyplot as plt\n",
    "import seaborn as sns\n",
    "sns.countplot(x = data_wine_red.quality)"
   ],
   "metadata": {
    "collapsed": false
   }
  },
  {
   "cell_type": "markdown",
   "source": [
    "# Standardize Values"
   ],
   "metadata": {
    "collapsed": false
   }
  },
  {
   "cell_type": "code",
   "execution_count": 373,
   "outputs": [
    {
     "data": {
      "text/plain": "                 0             1             2             3             4   \\\ncount  1.599000e+03  1.599000e+03  1.599000e+03  1.599000e+03  1.599000e+03   \nmean   3.554936e-16  1.733031e-16 -8.887339e-17 -1.244227e-16  3.732682e-16   \nstd    1.000313e+00  1.000313e+00  1.000313e+00  1.000313e+00  1.000313e+00   \nmin   -2.137045e+00 -2.278280e+00 -1.391472e+00 -1.162696e+00 -1.603945e+00   \n25%   -7.007187e-01 -7.699311e-01 -9.293181e-01 -4.532184e-01 -3.712290e-01   \n50%   -2.410944e-01 -4.368911e-02 -5.636026e-02 -2.403750e-01 -1.799455e-01   \n75%    5.057952e-01  6.266881e-01  7.652471e-01  4.341614e-02  5.384542e-02   \nmax    4.355149e+00  5.877976e+00  3.743574e+00  9.195681e+00  1.112703e+01   \n\n                 5             6             7             8             9   \\\ncount  1.599000e+03  1.599000e+03  1.599000e+03  1.599000e+03  1.599000e+03   \nmean  -6.221137e-17  4.443669e-17 -3.473172e-14  2.861723e-15  6.754377e-16   \nstd    1.000313e+00  1.000313e+00  1.000313e+00  1.000313e+00  1.000313e+00   \nmin   -1.422500e+00 -1.230584e+00 -3.538731e+00 -3.700401e+00 -1.936507e+00   \n25%   -8.487156e-01 -7.440403e-01 -6.077557e-01 -6.551405e-01 -6.382196e-01   \n50%   -1.793002e-01 -2.574968e-01  1.760083e-03 -7.212705e-03 -2.251281e-01   \n75%    4.901152e-01  4.723184e-01  5.768249e-01  5.759223e-01  4.240158e-01   \nmax    5.367284e+00  7.375154e+00  3.680055e+00  4.528282e+00  7.918677e+00   \n\n                 10  \ncount  1.599000e+03  \nmean   1.066481e-16  \nstd    1.000313e+00  \nmin   -1.898919e+00  \n25%   -8.663789e-01  \n50%   -2.093081e-01  \n75%    6.354971e-01  \nmax    4.202453e+00  ",
      "text/html": "<div>\n<style scoped>\n    .dataframe tbody tr th:only-of-type {\n        vertical-align: middle;\n    }\n\n    .dataframe tbody tr th {\n        vertical-align: top;\n    }\n\n    .dataframe thead th {\n        text-align: right;\n    }\n</style>\n<table border=\"1\" class=\"dataframe\">\n  <thead>\n    <tr style=\"text-align: right;\">\n      <th></th>\n      <th>0</th>\n      <th>1</th>\n      <th>2</th>\n      <th>3</th>\n      <th>4</th>\n      <th>5</th>\n      <th>6</th>\n      <th>7</th>\n      <th>8</th>\n      <th>9</th>\n      <th>10</th>\n    </tr>\n  </thead>\n  <tbody>\n    <tr>\n      <th>count</th>\n      <td>1.599000e+03</td>\n      <td>1.599000e+03</td>\n      <td>1.599000e+03</td>\n      <td>1.599000e+03</td>\n      <td>1.599000e+03</td>\n      <td>1.599000e+03</td>\n      <td>1.599000e+03</td>\n      <td>1.599000e+03</td>\n      <td>1.599000e+03</td>\n      <td>1.599000e+03</td>\n      <td>1.599000e+03</td>\n    </tr>\n    <tr>\n      <th>mean</th>\n      <td>3.554936e-16</td>\n      <td>1.733031e-16</td>\n      <td>-8.887339e-17</td>\n      <td>-1.244227e-16</td>\n      <td>3.732682e-16</td>\n      <td>-6.221137e-17</td>\n      <td>4.443669e-17</td>\n      <td>-3.473172e-14</td>\n      <td>2.861723e-15</td>\n      <td>6.754377e-16</td>\n      <td>1.066481e-16</td>\n    </tr>\n    <tr>\n      <th>std</th>\n      <td>1.000313e+00</td>\n      <td>1.000313e+00</td>\n      <td>1.000313e+00</td>\n      <td>1.000313e+00</td>\n      <td>1.000313e+00</td>\n      <td>1.000313e+00</td>\n      <td>1.000313e+00</td>\n      <td>1.000313e+00</td>\n      <td>1.000313e+00</td>\n      <td>1.000313e+00</td>\n      <td>1.000313e+00</td>\n    </tr>\n    <tr>\n      <th>min</th>\n      <td>-2.137045e+00</td>\n      <td>-2.278280e+00</td>\n      <td>-1.391472e+00</td>\n      <td>-1.162696e+00</td>\n      <td>-1.603945e+00</td>\n      <td>-1.422500e+00</td>\n      <td>-1.230584e+00</td>\n      <td>-3.538731e+00</td>\n      <td>-3.700401e+00</td>\n      <td>-1.936507e+00</td>\n      <td>-1.898919e+00</td>\n    </tr>\n    <tr>\n      <th>25%</th>\n      <td>-7.007187e-01</td>\n      <td>-7.699311e-01</td>\n      <td>-9.293181e-01</td>\n      <td>-4.532184e-01</td>\n      <td>-3.712290e-01</td>\n      <td>-8.487156e-01</td>\n      <td>-7.440403e-01</td>\n      <td>-6.077557e-01</td>\n      <td>-6.551405e-01</td>\n      <td>-6.382196e-01</td>\n      <td>-8.663789e-01</td>\n    </tr>\n    <tr>\n      <th>50%</th>\n      <td>-2.410944e-01</td>\n      <td>-4.368911e-02</td>\n      <td>-5.636026e-02</td>\n      <td>-2.403750e-01</td>\n      <td>-1.799455e-01</td>\n      <td>-1.793002e-01</td>\n      <td>-2.574968e-01</td>\n      <td>1.760083e-03</td>\n      <td>-7.212705e-03</td>\n      <td>-2.251281e-01</td>\n      <td>-2.093081e-01</td>\n    </tr>\n    <tr>\n      <th>75%</th>\n      <td>5.057952e-01</td>\n      <td>6.266881e-01</td>\n      <td>7.652471e-01</td>\n      <td>4.341614e-02</td>\n      <td>5.384542e-02</td>\n      <td>4.901152e-01</td>\n      <td>4.723184e-01</td>\n      <td>5.768249e-01</td>\n      <td>5.759223e-01</td>\n      <td>4.240158e-01</td>\n      <td>6.354971e-01</td>\n    </tr>\n    <tr>\n      <th>max</th>\n      <td>4.355149e+00</td>\n      <td>5.877976e+00</td>\n      <td>3.743574e+00</td>\n      <td>9.195681e+00</td>\n      <td>1.112703e+01</td>\n      <td>5.367284e+00</td>\n      <td>7.375154e+00</td>\n      <td>3.680055e+00</td>\n      <td>4.528282e+00</td>\n      <td>7.918677e+00</td>\n      <td>4.202453e+00</td>\n    </tr>\n  </tbody>\n</table>\n</div>"
     },
     "execution_count": 373,
     "metadata": {},
     "output_type": "execute_result"
    }
   ],
   "source": [
    "from sklearn.preprocessing import StandardScaler\n",
    "scalerX = StandardScaler()\n",
    "X_scaled = scalerX.fit_transform(data_wine_red[data_wine_red.columns[~data_wine_red.columns.isin(['quality'])]])\n",
    "\n",
    "scalerY = StandardScaler()\n",
    "y_scaled = scalerY.fit_transform(data_wine_red[data_wine_red.columns[data_wine_red.columns.isin(['quality'])]])\n",
    "pd.DataFrame(X_scaled).describe()"
   ],
   "metadata": {
    "collapsed": false
   }
  },
  {
   "cell_type": "code",
   "execution_count": 374,
   "outputs": [
    {
     "data": {
      "text/plain": "            0         1         2         3         4         5         6   \\\n1103 -0.528360 -0.211283 -0.005010 -0.311323 -0.349975 -0.179300 -0.652813   \n619   1.712309 -0.881661  0.713897 -0.169427  0.011338 -0.944346 -0.926494   \n1078  0.161077 -0.881661  1.946308  2.739432 -0.158692 -1.231239 -1.169766   \n1344  1.827215 -0.602337  1.073350  0.043416 -0.222453 -0.753085 -0.804858   \n168  -0.873078  0.570823 -1.032019 -0.311323  0.032592 -0.466193 -0.075043   \n\n            7         8         9         10  \n1103 -1.519379  0.251958 -0.166115  1.480302  \n619   1.088288 -1.432654  0.837107 -1.054113  \n1078  0.754380 -0.266384 -0.461180  0.541630  \n1344  0.939884 -1.432654 -0.756246  0.541630  \n168  -0.766760  1.029472 -0.638220 -0.021574  ",
      "text/html": "<div>\n<style scoped>\n    .dataframe tbody tr th:only-of-type {\n        vertical-align: middle;\n    }\n\n    .dataframe tbody tr th {\n        vertical-align: top;\n    }\n\n    .dataframe thead th {\n        text-align: right;\n    }\n</style>\n<table border=\"1\" class=\"dataframe\">\n  <thead>\n    <tr style=\"text-align: right;\">\n      <th></th>\n      <th>0</th>\n      <th>1</th>\n      <th>2</th>\n      <th>3</th>\n      <th>4</th>\n      <th>5</th>\n      <th>6</th>\n      <th>7</th>\n      <th>8</th>\n      <th>9</th>\n      <th>10</th>\n    </tr>\n  </thead>\n  <tbody>\n    <tr>\n      <th>1103</th>\n      <td>-0.528360</td>\n      <td>-0.211283</td>\n      <td>-0.005010</td>\n      <td>-0.311323</td>\n      <td>-0.349975</td>\n      <td>-0.179300</td>\n      <td>-0.652813</td>\n      <td>-1.519379</td>\n      <td>0.251958</td>\n      <td>-0.166115</td>\n      <td>1.480302</td>\n    </tr>\n    <tr>\n      <th>619</th>\n      <td>1.712309</td>\n      <td>-0.881661</td>\n      <td>0.713897</td>\n      <td>-0.169427</td>\n      <td>0.011338</td>\n      <td>-0.944346</td>\n      <td>-0.926494</td>\n      <td>1.088288</td>\n      <td>-1.432654</td>\n      <td>0.837107</td>\n      <td>-1.054113</td>\n    </tr>\n    <tr>\n      <th>1078</th>\n      <td>0.161077</td>\n      <td>-0.881661</td>\n      <td>1.946308</td>\n      <td>2.739432</td>\n      <td>-0.158692</td>\n      <td>-1.231239</td>\n      <td>-1.169766</td>\n      <td>0.754380</td>\n      <td>-0.266384</td>\n      <td>-0.461180</td>\n      <td>0.541630</td>\n    </tr>\n    <tr>\n      <th>1344</th>\n      <td>1.827215</td>\n      <td>-0.602337</td>\n      <td>1.073350</td>\n      <td>0.043416</td>\n      <td>-0.222453</td>\n      <td>-0.753085</td>\n      <td>-0.804858</td>\n      <td>0.939884</td>\n      <td>-1.432654</td>\n      <td>-0.756246</td>\n      <td>0.541630</td>\n    </tr>\n    <tr>\n      <th>168</th>\n      <td>-0.873078</td>\n      <td>0.570823</td>\n      <td>-1.032019</td>\n      <td>-0.311323</td>\n      <td>0.032592</td>\n      <td>-0.466193</td>\n      <td>-0.075043</td>\n      <td>-0.766760</td>\n      <td>1.029472</td>\n      <td>-0.638220</td>\n      <td>-0.021574</td>\n    </tr>\n  </tbody>\n</table>\n</div>"
     },
     "execution_count": 374,
     "metadata": {},
     "output_type": "execute_result"
    }
   ],
   "source": [
    "from sklearn.model_selection import train_test_split\n",
    "\n",
    "X_train, X_test, y_train, y_test = train_test_split(pd.DataFrame(X_scaled), pd.DataFrame(y_scaled), test_size=0.25)\n",
    "\n",
    "X_train.head()"
   ],
   "metadata": {
    "collapsed": false
   }
  },
  {
   "cell_type": "markdown",
   "source": [
    "---\n",
    "# Neuronales Netz"
   ],
   "metadata": {
    "collapsed": false
   }
  },
  {
   "cell_type": "markdown",
   "source": [
    "### Model Training"
   ],
   "metadata": {
    "collapsed": false
   }
  },
  {
   "cell_type": "code",
   "execution_count": 375,
   "outputs": [],
   "source": [
    "from tensorflow import keras\n",
    "from tensorflow.keras import layers\n",
    "\n",
    "model = keras.Sequential([\n",
    "    layers.Dense(units=128, activation='relu', input_shape=[11]),\n",
    "    layers.BatchNormalization(),\n",
    "\n",
    "    layers.Dropout(rate=0.3),\n",
    "    layers.Dense(units=128, activation='relu'),\n",
    "    layers.BatchNormalization(),\n",
    "\n",
    "    layers.Dropout(rate=0.3),\n",
    "    layers.Dense(units=128, activation='relu'),\n",
    "    layers.BatchNormalization(),\n",
    "\n",
    "    layers.Dropout(rate=0.3),\n",
    "    layers.Dense(units=128, activation='relu'),\n",
    "    layers.BatchNormalization(),\n",
    "\n",
    "    layers.Dropout(rate=0.3),\n",
    "    layers.Dense(units=128, activation='relu'),\n",
    "    layers.BatchNormalization(),\n",
    "\n",
    "    #linear output layer\n",
    "    layers.Dense(units=1)\n",
    "])\n",
    "\n",
    "model.compile(\n",
    "    optimizer = 'sgd',\n",
    "    loss = 'mean_absolute_error'\n",
    ")\n"
   ],
   "metadata": {
    "collapsed": false
   }
  },
  {
   "cell_type": "code",
   "execution_count": 376,
   "outputs": [],
   "source": [
    "from tensorflow.keras.callbacks import EarlyStopping\n",
    "\n",
    "early_stopping = EarlyStopping(\n",
    "    min_delta = 0.001,\n",
    "    patience = 20,\n",
    "    restore_best_weights = True\n",
    ")"
   ],
   "metadata": {
    "collapsed": false
   }
  },
  {
   "cell_type": "code",
   "execution_count": 377,
   "outputs": [],
   "source": [
    "history = model.fit(\n",
    "    X_train,y_train,\n",
    "    validation_data = (X_test,y_test),\n",
    "    batch_size = 256,\n",
    "    epochs = 500,\n",
    "    callbacks = [early_stopping],\n",
    "    verbose = 0\n",
    ")"
   ],
   "metadata": {
    "collapsed": false
   }
  },
  {
   "cell_type": "code",
   "execution_count": 378,
   "outputs": [
    {
     "name": "stdout",
     "output_type": "stream",
     "text": [
      "13/13 [==============================] - 0s 2ms/step\n"
     ]
    }
   ],
   "source": [
    "y_pred_tf = model.predict(X_test)"
   ],
   "metadata": {
    "collapsed": false
   }
  },
  {
   "cell_type": "markdown",
   "source": [
    "### R2 Score for Standadized Values"
   ],
   "metadata": {
    "collapsed": false
   }
  },
  {
   "cell_type": "code",
   "execution_count": 379,
   "outputs": [
    {
     "data": {
      "text/plain": "0.29794693574827746"
     },
     "execution_count": 379,
     "metadata": {},
     "output_type": "execute_result"
    }
   ],
   "source": [
    "from sklearn.metrics import r2_score\n",
    "r2_score(y_test,y_pred_tf)"
   ],
   "metadata": {
    "collapsed": false
   }
  },
  {
   "cell_type": "markdown",
   "source": [
    "### Compare original Values with predicted, rounded Values"
   ],
   "metadata": {
    "collapsed": false
   }
  },
  {
   "cell_type": "code",
   "execution_count": 380,
   "outputs": [
    {
     "data": {
      "text/plain": "array([[5.],\n       [6.],\n       [6.],\n       [6.],\n       [5.],\n       [4.],\n       [5.],\n       [5.],\n       [5.],\n       [5.],\n       [6.],\n       [5.],\n       [5.],\n       [5.],\n       [6.],\n       [5.],\n       [6.],\n       [7.],\n       [7.],\n       [6.],\n       [5.],\n       [5.],\n       [4.],\n       [6.],\n       [5.],\n       [5.],\n       [5.],\n       [7.],\n       [5.],\n       [6.],\n       [6.],\n       [5.],\n       [5.],\n       [6.],\n       [6.],\n       [5.],\n       [7.],\n       [6.],\n       [5.],\n       [7.],\n       [6.],\n       [6.],\n       [5.],\n       [5.],\n       [6.],\n       [5.],\n       [5.],\n       [6.],\n       [6.],\n       [5.],\n       [5.],\n       [7.],\n       [5.],\n       [5.],\n       [6.],\n       [6.],\n       [6.],\n       [5.],\n       [6.],\n       [5.],\n       [5.],\n       [7.],\n       [5.],\n       [6.],\n       [6.],\n       [8.],\n       [6.],\n       [7.],\n       [4.],\n       [6.],\n       [5.],\n       [5.],\n       [6.],\n       [6.],\n       [5.],\n       [7.],\n       [6.],\n       [5.],\n       [6.],\n       [5.],\n       [6.],\n       [6.],\n       [5.],\n       [5.],\n       [5.],\n       [6.],\n       [5.],\n       [5.],\n       [6.],\n       [5.],\n       [6.],\n       [6.],\n       [4.],\n       [5.],\n       [4.],\n       [5.],\n       [6.],\n       [5.],\n       [5.],\n       [6.],\n       [6.],\n       [5.],\n       [7.],\n       [6.],\n       [5.],\n       [5.],\n       [6.],\n       [5.],\n       [6.],\n       [5.],\n       [6.],\n       [5.],\n       [5.],\n       [7.],\n       [7.],\n       [5.],\n       [5.],\n       [7.],\n       [5.],\n       [6.],\n       [6.],\n       [6.],\n       [6.],\n       [6.],\n       [6.],\n       [6.],\n       [5.],\n       [7.],\n       [5.],\n       [5.],\n       [5.],\n       [5.],\n       [5.],\n       [5.],\n       [6.],\n       [5.],\n       [5.],\n       [7.],\n       [5.],\n       [6.],\n       [6.],\n       [6.],\n       [4.],\n       [5.],\n       [6.],\n       [5.],\n       [5.],\n       [5.],\n       [7.],\n       [7.],\n       [5.],\n       [6.],\n       [5.],\n       [5.],\n       [6.],\n       [6.],\n       [5.],\n       [5.],\n       [5.],\n       [5.],\n       [6.],\n       [5.],\n       [6.],\n       [6.],\n       [5.],\n       [7.],\n       [7.],\n       [4.],\n       [6.],\n       [6.],\n       [6.],\n       [5.],\n       [6.],\n       [6.],\n       [6.],\n       [6.],\n       [5.],\n       [6.],\n       [6.],\n       [7.],\n       [5.],\n       [6.],\n       [6.],\n       [6.],\n       [4.],\n       [7.],\n       [5.],\n       [5.],\n       [5.],\n       [6.],\n       [6.],\n       [6.],\n       [6.],\n       [7.],\n       [6.],\n       [5.],\n       [5.],\n       [5.],\n       [5.],\n       [6.],\n       [5.],\n       [6.],\n       [6.],\n       [5.],\n       [7.],\n       [5.],\n       [5.],\n       [5.],\n       [7.],\n       [6.],\n       [6.],\n       [5.],\n       [6.],\n       [5.],\n       [5.],\n       [5.],\n       [6.],\n       [6.],\n       [7.],\n       [5.],\n       [5.],\n       [8.],\n       [5.],\n       [5.],\n       [5.],\n       [5.],\n       [5.],\n       [7.],\n       [5.],\n       [5.],\n       [5.],\n       [5.],\n       [6.],\n       [6.],\n       [4.],\n       [5.],\n       [6.],\n       [6.],\n       [7.],\n       [6.],\n       [5.],\n       [6.],\n       [7.],\n       [6.],\n       [6.],\n       [6.],\n       [7.],\n       [5.],\n       [5.],\n       [6.],\n       [6.],\n       [6.],\n       [6.],\n       [7.],\n       [5.],\n       [6.],\n       [6.],\n       [5.],\n       [6.],\n       [5.],\n       [5.],\n       [5.],\n       [4.],\n       [5.],\n       [6.],\n       [6.],\n       [5.],\n       [7.],\n       [6.],\n       [5.],\n       [5.],\n       [4.],\n       [5.],\n       [5.],\n       [5.],\n       [5.],\n       [6.],\n       [6.],\n       [6.],\n       [6.],\n       [6.],\n       [5.],\n       [6.],\n       [5.],\n       [7.],\n       [6.],\n       [6.],\n       [6.],\n       [6.],\n       [6.],\n       [4.],\n       [5.],\n       [5.],\n       [7.],\n       [5.],\n       [6.],\n       [5.],\n       [6.],\n       [8.],\n       [4.],\n       [5.],\n       [8.],\n       [5.],\n       [7.],\n       [6.],\n       [5.],\n       [7.],\n       [6.],\n       [5.],\n       [6.],\n       [7.],\n       [6.],\n       [6.],\n       [6.],\n       [5.],\n       [5.],\n       [5.],\n       [6.],\n       [7.],\n       [5.],\n       [5.],\n       [8.],\n       [5.],\n       [6.],\n       [6.],\n       [8.],\n       [5.],\n       [5.],\n       [6.],\n       [5.],\n       [6.],\n       [5.],\n       [7.],\n       [5.],\n       [6.],\n       [5.],\n       [4.],\n       [5.],\n       [7.],\n       [5.],\n       [5.],\n       [6.],\n       [5.],\n       [6.],\n       [6.],\n       [6.],\n       [5.],\n       [7.],\n       [6.],\n       [6.],\n       [6.],\n       [6.],\n       [5.],\n       [7.],\n       [6.],\n       [6.],\n       [5.],\n       [5.],\n       [6.],\n       [6.],\n       [5.],\n       [5.],\n       [5.],\n       [5.],\n       [5.],\n       [7.],\n       [6.],\n       [7.],\n       [6.],\n       [5.],\n       [6.],\n       [6.],\n       [5.],\n       [5.],\n       [6.],\n       [6.],\n       [6.],\n       [6.],\n       [5.],\n       [6.],\n       [5.],\n       [6.],\n       [5.],\n       [6.],\n       [6.],\n       [8.],\n       [6.],\n       [6.],\n       [5.],\n       [6.],\n       [5.],\n       [6.],\n       [4.],\n       [7.],\n       [5.],\n       [5.],\n       [6.],\n       [5.],\n       [6.],\n       [7.]])"
     },
     "execution_count": 380,
     "metadata": {},
     "output_type": "execute_result"
    }
   ],
   "source": [
    "inscaled_y_test = scalerY.inverse_transform(pd.DataFrame(y_test)).round()\n",
    "inscaled_y_test"
   ],
   "metadata": {
    "collapsed": false
   }
  },
  {
   "cell_type": "code",
   "execution_count": 381,
   "outputs": [
    {
     "data": {
      "text/plain": "array([[6.],\n       [6.],\n       [6.],\n       [5.],\n       [5.],\n       [6.],\n       [5.],\n       [5.],\n       [6.],\n       [5.],\n       [6.],\n       [6.],\n       [6.],\n       [5.],\n       [5.],\n       [5.],\n       [5.],\n       [7.],\n       [5.],\n       [6.],\n       [6.],\n       [6.],\n       [5.],\n       [6.],\n       [5.],\n       [5.],\n       [5.],\n       [6.],\n       [5.],\n       [7.],\n       [6.],\n       [5.],\n       [6.],\n       [6.],\n       [6.],\n       [5.],\n       [6.],\n       [5.],\n       [5.],\n       [6.],\n       [5.],\n       [6.],\n       [5.],\n       [6.],\n       [5.],\n       [6.],\n       [5.],\n       [5.],\n       [6.],\n       [5.],\n       [5.],\n       [6.],\n       [5.],\n       [5.],\n       [5.],\n       [6.],\n       [6.],\n       [5.],\n       [6.],\n       [5.],\n       [5.],\n       [6.],\n       [5.],\n       [6.],\n       [5.],\n       [6.],\n       [5.],\n       [7.],\n       [5.],\n       [6.],\n       [5.],\n       [5.],\n       [5.],\n       [6.],\n       [5.],\n       [6.],\n       [5.],\n       [5.],\n       [6.],\n       [6.],\n       [6.],\n       [7.],\n       [5.],\n       [6.],\n       [5.],\n       [7.],\n       [5.],\n       [5.],\n       [6.],\n       [5.],\n       [5.],\n       [6.],\n       [6.],\n       [6.],\n       [5.],\n       [6.],\n       [6.],\n       [5.],\n       [5.],\n       [6.],\n       [6.],\n       [5.],\n       [7.],\n       [6.],\n       [5.],\n       [5.],\n       [5.],\n       [5.],\n       [5.],\n       [6.],\n       [5.],\n       [6.],\n       [5.],\n       [7.],\n       [6.],\n       [5.],\n       [5.],\n       [6.],\n       [5.],\n       [6.],\n       [6.],\n       [5.],\n       [5.],\n       [6.],\n       [6.],\n       [5.],\n       [5.],\n       [6.],\n       [5.],\n       [6.],\n       [5.],\n       [5.],\n       [5.],\n       [5.],\n       [5.],\n       [5.],\n       [5.],\n       [6.],\n       [5.],\n       [6.],\n       [5.],\n       [5.],\n       [5.],\n       [5.],\n       [5.],\n       [5.],\n       [5.],\n       [5.],\n       [6.],\n       [6.],\n       [5.],\n       [6.],\n       [5.],\n       [5.],\n       [5.],\n       [6.],\n       [6.],\n       [5.],\n       [5.],\n       [5.],\n       [6.],\n       [6.],\n       [6.],\n       [5.],\n       [5.],\n       [6.],\n       [6.],\n       [6.],\n       [5.],\n       [6.],\n       [7.],\n       [5.],\n       [6.],\n       [6.],\n       [6.],\n       [6.],\n       [6.],\n       [5.],\n       [5.],\n       [5.],\n       [5.],\n       [6.],\n       [5.],\n       [5.],\n       [5.],\n       [6.],\n       [5.],\n       [5.],\n       [5.],\n       [5.],\n       [6.],\n       [5.],\n       [6.],\n       [5.],\n       [5.],\n       [5.],\n       [5.],\n       [5.],\n       [5.],\n       [5.],\n       [5.],\n       [5.],\n       [5.],\n       [5.],\n       [7.],\n       [5.],\n       [5.],\n       [5.],\n       [6.],\n       [6.],\n       [5.],\n       [6.],\n       [6.],\n       [5.],\n       [5.],\n       [5.],\n       [5.],\n       [5.],\n       [6.],\n       [5.],\n       [5.],\n       [6.],\n       [5.],\n       [6.],\n       [5.],\n       [6.],\n       [5.],\n       [6.],\n       [5.],\n       [5.],\n       [5.],\n       [5.],\n       [5.],\n       [6.],\n       [5.],\n       [5.],\n       [5.],\n       [6.],\n       [6.],\n       [6.],\n       [6.],\n       [5.],\n       [7.],\n       [6.],\n       [5.],\n       [6.],\n       [6.],\n       [5.],\n       [5.],\n       [5.],\n       [6.],\n       [6.],\n       [6.],\n       [6.],\n       [5.],\n       [5.],\n       [6.],\n       [5.],\n       [5.],\n       [5.],\n       [5.],\n       [5.],\n       [5.],\n       [5.],\n       [5.],\n       [6.],\n       [5.],\n       [5.],\n       [6.],\n       [5.],\n       [5.],\n       [6.],\n       [6.],\n       [5.],\n       [5.],\n       [5.],\n       [5.],\n       [6.],\n       [5.],\n       [7.],\n       [5.],\n       [5.],\n       [5.],\n       [5.],\n       [7.],\n       [5.],\n       [6.],\n       [6.],\n       [5.],\n       [6.],\n       [5.],\n       [5.],\n       [5.],\n       [6.],\n       [5.],\n       [6.],\n       [5.],\n       [6.],\n       [6.],\n       [5.],\n       [6.],\n       [6.],\n       [5.],\n       [6.],\n       [5.],\n       [5.],\n       [6.],\n       [6.],\n       [6.],\n       [5.],\n       [6.],\n       [5.],\n       [6.],\n       [6.],\n       [5.],\n       [5.],\n       [5.],\n       [6.],\n       [7.],\n       [6.],\n       [6.],\n       [7.],\n       [5.],\n       [7.],\n       [6.],\n       [7.],\n       [6.],\n       [5.],\n       [7.],\n       [5.],\n       [6.],\n       [5.],\n       [6.],\n       [6.],\n       [5.],\n       [7.],\n       [6.],\n       [5.],\n       [7.],\n       [5.],\n       [5.],\n       [6.],\n       [5.],\n       [6.],\n       [6.],\n       [5.],\n       [5.],\n       [6.],\n       [6.],\n       [6.],\n       [7.],\n       [6.],\n       [5.],\n       [7.],\n       [6.],\n       [5.],\n       [5.],\n       [5.],\n       [5.],\n       [6.],\n       [5.],\n       [5.],\n       [5.],\n       [6.],\n       [5.],\n       [6.],\n       [6.],\n       [6.],\n       [6.],\n       [5.],\n       [6.],\n       [7.],\n       [5.],\n       [5.],\n       [6.],\n       [7.],\n       [5.],\n       [6.],\n       [5.],\n       [6.],\n       [5.],\n       [6.],\n       [6.],\n       [5.],\n       [5.],\n       [6.],\n       [6.],\n       [7.],\n       [5.],\n       [5.],\n       [5.],\n       [5.],\n       [6.],\n       [6.],\n       [6.],\n       [6.],\n       [6.],\n       [6.],\n       [6.],\n       [7.]], dtype=float32)"
     },
     "execution_count": 381,
     "metadata": {},
     "output_type": "execute_result"
    }
   ],
   "source": [
    "inscaled_y_pred_tf = scalerY.inverse_transform(pd.DataFrame(y_pred_tf)).round()\n",
    "inscaled_y_pred_tf"
   ],
   "metadata": {
    "collapsed": false
   }
  },
  {
   "cell_type": "markdown",
   "source": [
    "### R2 Score for original Values"
   ],
   "metadata": {
    "collapsed": false
   }
  },
  {
   "cell_type": "code",
   "execution_count": 382,
   "outputs": [
    {
     "data": {
      "text/plain": "0.15014164305948996"
     },
     "execution_count": 382,
     "metadata": {},
     "output_type": "execute_result"
    }
   ],
   "source": [
    "r2_score(inscaled_y_test,inscaled_y_pred_tf)"
   ],
   "metadata": {
    "collapsed": false
   }
  },
  {
   "cell_type": "markdown",
   "source": [
    "### Show Evaluation as Confusion Matrix"
   ],
   "metadata": {
    "collapsed": false
   }
  },
  {
   "cell_type": "code",
   "execution_count": 383,
   "outputs": [
    {
     "data": {
      "text/plain": "<Figure size 640x480 with 2 Axes>",
      "image/png": "[encoded data removed]"
     },
     "metadata": {},
     "output_type": "display_data"
    }
   ],
   "source": [
    "from sklearn.metrics import ConfusionMatrixDisplay\n",
    "\n",
    "ConfusionMatrixDisplay.from_predictions(inscaled_y_test,inscaled_y_pred_tf,cmap='Blues')\n",
    "\n",
    "plt.show()"
   ],
   "metadata": {
    "collapsed": false
   }
  },
  {
   "cell_type": "markdown",
   "source": [
    "## Train Model with 3-fold Cross Validation"
   ],
   "metadata": {
    "collapsed": false
   }
  },
  {
   "cell_type": "code",
   "execution_count": 384,
   "outputs": [
    {
     "name": "stdout",
     "output_type": "stream",
     "text": [
      "13/13 [==============================] - 0s 1ms/step\n",
      "0.36287251401276965\n",
      "13/13 [==============================] - 0s 1ms/step\n",
      "0.4265289760789194\n",
      "13/13 [==============================] - 0s 2ms/step\n",
      "0.31895016330260595\n"
     ]
    }
   ],
   "source": [
    "from sklearn.model_selection import KFold\n",
    "\n",
    "X_data = X_train.to_numpy()\n",
    "y_data = y_train.to_numpy()\n",
    "\n",
    "kfold = KFold(n_splits=3)\n",
    "for train, test in kfold.split(X_data, y_data):\n",
    "    model_cv = keras.Sequential([\n",
    "        layers.Dense(units=128, activation='relu', input_shape=[11]),\n",
    "        layers.BatchNormalization(),\n",
    "\n",
    "        layers.Dropout(rate=0.3),\n",
    "        layers.Dense(units=128, activation='relu'),\n",
    "        layers.BatchNormalization(),\n",
    "\n",
    "        layers.Dropout(rate=0.3),\n",
    "        layers.Dense(units=128, activation='relu'),\n",
    "        layers.BatchNormalization(),\n",
    "\n",
    "        layers.Dropout(rate=0.3),\n",
    "        layers.Dense(units=128, activation='relu'),\n",
    "        layers.BatchNormalization(),\n",
    "\n",
    "        layers.Dense(units=1)\n",
    "    ])\n",
    "\n",
    "    model_cv.compile(\n",
    "        optimizer = 'sgd',\n",
    "        loss = 'mean_absolute_error'\n",
    "    )\n",
    "\n",
    "    early_stopping_cv = EarlyStopping(\n",
    "        min_delta = 0.001,\n",
    "        patience = 20,\n",
    "        restore_best_weights = True\n",
    "    )\n",
    "\n",
    "    history_cv = model_cv.fit(\n",
    "        X_data[train], y_data[train],\n",
    "        validation_data = (X_test,y_test),\n",
    "        batch_size=256,\n",
    "        epochs=500,\n",
    "        callbacks=[early_stopping],\n",
    "        verbose=0\n",
    "    )\n",
    "\n",
    "    y_pred_tf_cv = model_cv.predict(X_data[test])\n",
    "\n",
    "    print(r2_score(y_data[test],y_pred_tf_cv))"
   ],
   "metadata": {
    "collapsed": false
   }
  },
  {
   "cell_type": "code",
   "execution_count": 384,
   "outputs": [],
   "source": [],
   "metadata": {
    "collapsed": false
   }
  }
 ],
 "metadata": {
  "kernelspec": {
   "display_name": "Python 3",
   "language": "python",
   "name": "python3"
  },
  "language_info": {
   "codemirror_mode": {
    "name": "ipython",
    "version": 2
   },
   "file_extension": ".py",
   "mimetype": "text/x-python",
   "name": "python",
   "nbconvert_exporter": "python",
   "pygments_lexer": "ipython2",
   "version": "2.7.6"
  }
 },
 "nbformat": 4,
 "nbformat_minor": 0
}
